{
 "cells": [
  {
   "cell_type": "markdown",
   "metadata": {
    "toc-hr-collapsed": false
   },
   "source": [
    "# Jupyter notebook/lab\n",
    "The Jupyter Notebook is an ***open-source web application*** that allows you to ***create and share documents*** that contain live code, equations, visualizations and explanatory text. Uses include: data cleaning and transformation, numerical simulation, statistical modeling, machine learning and much more.\n",
    "\n",
    "Checkout the \"command palette\" (View > Active Command Palette) for useful commands and shortcuts."
   ]
  },
  {
   "cell_type": "markdown",
   "metadata": {
    "tags": []
   },
   "source": [
    "## Navigation"
   ]
  },
  {
   "cell_type": "markdown",
   "metadata": {},
   "source": [
    "- ***`Esc` and `Enter` to toggle between \"Command\" and \"Edit\" mode*** --> notice colour indicator of frame surrounding the cell\n",
    "\n",
    "- when in \"Command\" mode:\n",
    "    - use cursor keys to navigate\n",
    "    - `a` to insert cell Above\n",
    "    - `b` to insert cell Below\n",
    "    - `dd` to delete cell\n",
    "\n",
    "- when in \"Edit\" mode:\n",
    "    - `Tab` for tab completion of file-names\n",
    "    - `Shift` + `Tab` in parenthesis of function to display docstring\n",
    "    - `Cmd` + `/` toggle line comment"
   ]
  },
  {
   "cell_type": "markdown",
   "metadata": {
    "tags": []
   },
   "source": [
    "## Running code, getting help"
   ]
  },
  {
   "cell_type": "markdown",
   "metadata": {},
   "source": [
    "In the notebook, to run a cell of code, hit ***`Shift + Enter`***. This executes the cell and puts the cursor in the next cell below, or makes a new one if you are at the end.  Alternatively, you can use:\n",
    "    \n",
    "- `Alt + Enter` to force the creation of a new cell unconditionally (useful when inserting new content in the middle of an existing notebook).\n",
    "- `Control + Enter` executes the cell and keeps the cursor in the same cell, useful for quick experimentation of snippets that you don't need to keep permanently.\n",
    "- `Esc` and `Enter` to toggle between \"Command\" and \"Edit\" mode --> see colour indicator of frame surrounding the cell\n",
    "- ***`Shift + Tab` inside of the brackets of a function to get the Docstring***\n",
    "- ***`Cmd + /` to toggle line comment***"
   ]
  },
  {
   "cell_type": "markdown",
   "metadata": {},
   "source": [
    "## First live session"
   ]
  },
  {
   "cell_type": "code",
   "execution_count": null,
   "metadata": {},
   "outputs": [],
   "source": []
  }
 ],
 "metadata": {
  "kernelspec": {
   "display_name": "Python 3 (ipykernel)",
   "language": "python",
   "name": "python3"
  },
  "language_info": {
   "codemirror_mode": {
    "name": "ipython",
    "version": 3
   },
   "file_extension": ".py",
   "mimetype": "text/x-python",
   "name": "python",
   "nbconvert_exporter": "python",
   "pygments_lexer": "ipython3",
   "version": "3.9.13"
  }
 },
 "nbformat": 4,
 "nbformat_minor": 4
}
