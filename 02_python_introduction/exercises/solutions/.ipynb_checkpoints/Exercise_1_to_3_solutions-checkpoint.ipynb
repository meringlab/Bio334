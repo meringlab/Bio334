{
 "cells": [
  {
   "cell_type": "markdown",
   "metadata": {},
   "source": [
    "# 1 Exercise : List transformation"
   ]
  },
  {
   "cell_type": "markdown",
   "metadata": {},
   "source": [
    "## 1.1 Transform an interval of numbers"
   ]
  },
  {
   "cell_type": "markdown",
   "metadata": {},
   "source": [
    "### 1.1.1 Square elements of a list"
   ]
  },
  {
   "cell_type": "code",
   "execution_count": null,
   "metadata": {},
   "outputs": [],
   "source": [
    "# the upper range is often exluded in python - need to increment by =1\n",
    "# interval = range(0, 21)\n",
    "interval = range(21)\n",
    "\n",
    "sq_interval = []\n",
    "\n",
    "# Iterate and square each element in the list\n",
    "for i in interval:\n",
    "    sq_interval.append(i ** 2) \n",
    "\n",
    "print('sq_interval:', sq_interval)"
   ]
  },
  {
   "cell_type": "markdown",
   "metadata": {},
   "source": [
    "### 1.1.2 Remove odd numbers from the squared list"
   ]
  },
  {
   "cell_type": "code",
   "execution_count": null,
   "metadata": {},
   "outputs": [],
   "source": [
    "even_sq_interval = []\n",
    "for i in sq_interval:\n",
    "    if i % 2 == 0:\n",
    "        even_sq_interval.append(i)\n",
    "\n",
    "print('even_sq_interval:', even_sq_interval)"
   ]
  },
  {
   "cell_type": "markdown",
   "metadata": {},
   "source": [
    "## 1.2 Transform a corrupted string"
   ]
  },
  {
   "cell_type": "markdown",
   "metadata": {},
   "source": [
    "### 1.2.1 Remove white space and convert sequences to capital letters"
   ]
  },
  {
   "cell_type": "code",
   "execution_count": null,
   "metadata": {},
   "outputs": [],
   "source": [
    "some_dna = 'aACTa TtCcC acCtc\\tcaTCC CGGCc\\nTaTaT CTGaa'\n",
    "dna_pieces = some_dna.split()\n",
    "print('dna_pieces:', dna_pieces)"
   ]
  },
  {
   "cell_type": "markdown",
   "metadata": {},
   "source": [
    "### 1.2.2 Convert the pieces into capital letters and combine them into a multi-line string"
   ]
  },
  {
   "cell_type": "code",
   "execution_count": null,
   "metadata": {},
   "outputs": [],
   "source": [
    "upper_dna_pieces = []\n",
    "for piece in dna_pieces:\n",
    "    upper_dna_pieces.append(piece.upper())\n",
    "\n",
    "# Join all pieces using newline operator\n",
    "upper_dna_string = '\\n'.join(upper_dna_pieces)\n",
    "print('final string:\\n' + upper_dna_string)"
   ]
  },
  {
   "cell_type": "markdown",
   "metadata": {},
   "source": [
    "# 2 Exercise : Nucleotide counting"
   ]
  },
  {
   "cell_type": "markdown",
   "metadata": {},
   "source": [
    "## 2.1 Create the function"
   ]
  },
  {
   "cell_type": "code",
   "execution_count": null,
   "metadata": {},
   "outputs": [],
   "source": [
    "def count_nucleotides(file_name):\n",
    "    print(file_name)\n",
    "    \n",
    "file_name = \"../files/exercise_2/strange_dna.txt\"\n",
    "count_nucleotides(file_name)"
   ]
  },
  {
   "cell_type": "markdown",
   "metadata": {},
   "source": [
    "## 2.2 Read the .txt file"
   ]
  },
  {
   "cell_type": "code",
   "execution_count": null,
   "metadata": {},
   "outputs": [],
   "source": [
    "def count_nucleotides(file_name):   \n",
    "    dna_file = open(file_name, 'r')\n",
    "    DNA = ''\n",
    "    for line in dna_file:\n",
    "        dna_line = line.strip()\n",
    "        DNA += dna_line\n",
    "    dna_file.close()\n",
    "    print(DNA)\n",
    "    return DNA\n",
    "\n",
    "''' def count_nucleotides(path):\n",
    "    DNA = []\n",
    "    with open(path, 'r') as f:\n",
    "        for line in f.readlines():\n",
    "            DNA += line.strip()\n",
    "    return \"\".join(DNA) '''\n",
    "\n",
    "file_name = \"../files/exercise_2/strange_dna.txt\"\n",
    "DNA = count_nucleotides(file_name)"
   ]
  },
  {
   "cell_type": "markdown",
   "metadata": {},
   "source": [
    "## 2.3 Scan the sequence and count nucleotides"
   ]
  },
  {
   "cell_type": "code",
   "execution_count": null,
   "metadata": {},
   "outputs": [],
   "source": [
    "## 2 (of many potential) variations to solve this problem are shown below\n",
    "## using 4 variables\n",
    "A = 0\n",
    "C = 0\n",
    "G = 0\n",
    "T = 0\n",
    "for nucleotide in DNA:\n",
    "    if nucleotide == 'A':\n",
    "        A += 1\n",
    "    elif nucleotide == 'C':\n",
    "        C += 1\n",
    "    elif nucleotide == 'G':\n",
    "        G += 1\n",
    "    elif nucleotide == 'T':\n",
    "        T += 1    \n",
    "        \n",
    "print('A =', A, ', T =', T, ', C =', C, ', G =', G)"
   ]
  },
  {
   "cell_type": "code",
   "execution_count": null,
   "metadata": {},
   "outputs": [],
   "source": [
    "## using a dict\n",
    "nucleotide_counts = {'A': 0, 'T':0, 'C':0, 'G':0}\n",
    "for nucleotide in DNA:\n",
    "    nucleotide_counts[nucleotide] += 1\n",
    "\n",
    "print(nucleotide_counts)\n"
   ]
  },
  {
   "cell_type": "markdown",
   "metadata": {},
   "source": [
    "## 2.4 Report the results"
   ]
  },
  {
   "cell_type": "code",
   "execution_count": null,
   "metadata": {},
   "outputs": [],
   "source": [
    "## using 4 variables\n",
    "print('Count of A:', A)\n",
    "print('Count of T:', T)\n",
    "print('Count of G:', G)\n",
    "print('Count of C:', C)"
   ]
  },
  {
   "cell_type": "code",
   "execution_count": null,
   "metadata": {},
   "outputs": [],
   "source": [
    "## using a dict\n",
    "for key_value_pair in nucleotide_counts.items():\n",
    "    nucleotide = key_value_pair[0]\n",
    "    count = key_value_pair[1]\n",
    "    print('Count of', nucleotide, ':', count)"
   ]
  },
  {
   "cell_type": "markdown",
   "metadata": {},
   "source": [
    "# 3 Exercise: Pandas DataFrames"
   ]
  },
  {
   "cell_type": "markdown",
   "metadata": {},
   "source": [
    "## 3.1 Creating a data frame"
   ]
  },
  {
   "cell_type": "markdown",
   "metadata": {},
   "source": [
    "### 3.1.1 Import modules"
   ]
  },
  {
   "cell_type": "code",
   "execution_count": null,
   "metadata": {},
   "outputs": [],
   "source": [
    "import os\n",
    "import pandas as pd\n",
    "import numpy as np"
   ]
  },
  {
   "cell_type": "markdown",
   "metadata": {},
   "source": [
    "### 3.1.2 Create a pandas series"
   ]
  },
  {
   "cell_type": "code",
   "execution_count": null,
   "metadata": {},
   "outputs": [],
   "source": [
    "animals = [0.2, 4.5, 2.4]\n",
    "animal_series = pd.Series(animals)\n",
    "animal_series.index = ['mouse', 'duck', 'snake']\n",
    "animal_series"
   ]
  },
  {
   "cell_type": "markdown",
   "metadata": {},
   "source": [
    "### 3.1.3 Create a pandas data frame from two Series"
   ]
  },
  {
   "cell_type": "code",
   "execution_count": null,
   "metadata": {},
   "outputs": [],
   "source": [
    "animal_series_2 = animal_series **2\n",
    "animal_series_2"
   ]
  },
  {
   "cell_type": "code",
   "execution_count": null,
   "metadata": {},
   "outputs": [],
   "source": [
    "df = pd.DataFrame([animal_series, animal_series_2])\n",
    "df"
   ]
  },
  {
   "cell_type": "markdown",
   "metadata": {},
   "source": [
    "### 3.1.4 Create a pandas data frame from a matrix"
   ]
  },
  {
   "cell_type": "code",
   "execution_count": null,
   "metadata": {},
   "outputs": [],
   "source": [
    "animal_measurements = [['alpha', False, np.nan, 4],\n",
    "                       ['beta', False, 0.1, 2],\n",
    "                       ['beta', True, 0.333, 0], \n",
    "                      ['beta', True, -14, 30]]\n",
    "animal_df= pd.DataFrame(animal_measurements)\n",
    "animal_df"
   ]
  },
  {
   "cell_type": "code",
   "execution_count": null,
   "metadata": {},
   "outputs": [],
   "source": [
    "animal_cols = ['class', 'venomous', 'score', 'number_legs']\n",
    "animal_index = ['mouse', 'duck', 'snake', 'centipede']\n",
    "animal_df.columns = animal_cols\n",
    "animal_df.index = animal_index\n",
    "animal_df"
   ]
  },
  {
   "cell_type": "markdown",
   "metadata": {},
   "source": [
    "### 3.1.5 Pandas column types"
   ]
  },
  {
   "cell_type": "code",
   "execution_count": null,
   "metadata": {},
   "outputs": [],
   "source": [
    "animal_df.dtypes"
   ]
  },
  {
   "cell_type": "markdown",
   "metadata": {},
   "source": [
    "### 3.1.6 Create a pandas data frame from a dictionary"
   ]
  },
  {
   "cell_type": "code",
   "execution_count": null,
   "metadata": {},
   "outputs": [],
   "source": [
    "animalDF = pd.DataFrame({'class': ['alpha', 'beta', 'beta', 'beta'],\n",
    "        'venomous': ['False', 'False', 'True', 'True'],\n",
    "        'score': ['nan', '0.1', '0.333', '-14'],\n",
    "        'number_of_legs': ['4', '2', '0', '30']},\n",
    "index=['mouse', 'duck', 'snake', 'centipede'])\n",
    "animalDF"
   ]
  },
  {
   "cell_type": "code",
   "execution_count": null,
   "metadata": {},
   "outputs": [],
   "source": [
    "print(animalDF.dtypes)"
   ]
  },
  {
   "cell_type": "markdown",
   "metadata": {},
   "source": [
    "### 3.1.7 Indexing"
   ]
  },
  {
   "cell_type": "code",
   "execution_count": null,
   "metadata": {},
   "outputs": [],
   "source": [
    "animalDF.score"
   ]
  },
  {
   "cell_type": "code",
   "execution_count": null,
   "metadata": {},
   "outputs": [],
   "source": [
    "animalDF.loc[:,'score']"
   ]
  },
  {
   "cell_type": "code",
   "execution_count": null,
   "metadata": {},
   "outputs": [],
   "source": [
    "animalDF.loc[['mouse', 'duck'],['score', 'venomous']]"
   ]
  },
  {
   "cell_type": "code",
   "execution_count": null,
   "metadata": {},
   "outputs": [],
   "source": [
    "animalDF.iloc[0:2,1:3]"
   ]
  },
  {
   "cell_type": "markdown",
   "metadata": {},
   "source": [
    "## 3.2 Manipulating a real data file"
   ]
  },
  {
   "cell_type": "code",
   "execution_count": null,
   "metadata": {},
   "outputs": [],
   "source": [
    "samp = pd.read_excel('../files/exercise_3/filtered_samples.xlsx')\n",
    "samp\n"
   ]
  },
  {
   "cell_type": "markdown",
   "metadata": {},
   "source": [
    "### 3.2.1 Inspect a pandas object"
   ]
  },
  {
   "cell_type": "code",
   "execution_count": null,
   "metadata": {},
   "outputs": [],
   "source": [
    "samp.head(5)"
   ]
  },
  {
   "cell_type": "code",
   "execution_count": null,
   "metadata": {},
   "outputs": [],
   "source": [
    "print('Shape: ', samp.shape)\n",
    "print('Columns: ', samp.columns)\n",
    "print('Index: ', samp.index)\n",
    "print('Dtypes: ', samp.dtypes)"
   ]
  },
  {
   "cell_type": "code",
   "execution_count": null,
   "metadata": {},
   "outputs": [],
   "source": [
    "samp.describe()"
   ]
  },
  {
   "cell_type": "code",
   "execution_count": null,
   "metadata": {},
   "outputs": [],
   "source": [
    "samp.info()"
   ]
  },
  {
   "cell_type": "code",
   "execution_count": null,
   "metadata": {},
   "outputs": [],
   "source": [
    "# axis=1 -> row\n",
    "print(samp.mean(axis=1))\n",
    "# axis=0 -> column\n",
    "print(samp.mean(axis=0))"
   ]
  },
  {
   "cell_type": "markdown",
   "metadata": {},
   "source": [
    "### 3.2.2 Indexing"
   ]
  },
  {
   "cell_type": "code",
   "execution_count": null,
   "metadata": {},
   "outputs": [],
   "source": [
    "selection = samp.loc[:, ['S97-100', 'S97-13505', 'S97-8603']]\n",
    "selection\n"
   ]
  },
  {
   "cell_type": "markdown",
   "metadata": {},
   "source": [
    "### 3.2.3 Column assignment"
   ]
  },
  {
   "cell_type": "code",
   "execution_count": null,
   "metadata": {},
   "outputs": [],
   "source": [
    "body_sites = samp.iloc[:,0:1]\n",
    "selection = selection.assign(bodysite = body_sites)\n",
    "selection"
   ]
  },
  {
   "cell_type": "code",
   "execution_count": null,
   "metadata": {},
   "outputs": [],
   "source": [
    "print(selection.bodysite.dtype)\n",
    "selection.loc[:,'bodysite'] = pd.Categorical(selection.bodysite)\n",
    "selection.bodysite.dtype"
   ]
  },
  {
   "cell_type": "markdown",
   "metadata": {},
   "source": [
    "### 3.2.4 Sorting"
   ]
  },
  {
   "cell_type": "code",
   "execution_count": null,
   "metadata": {},
   "outputs": [],
   "source": [
    "selection.head()"
   ]
  },
  {
   "cell_type": "code",
   "execution_count": null,
   "metadata": {},
   "outputs": [],
   "source": [
    "selection = selection.sort_values(by='S97-100', ascending=False)\n",
    "selection"
   ]
  },
  {
   "cell_type": "markdown",
   "metadata": {},
   "source": [
    "### 3.2.5 Boolean indexing"
   ]
  },
  {
   "cell_type": "code",
   "execution_count": null,
   "metadata": {},
   "outputs": [],
   "source": [
    "indices_to_choose = selection.loc[:,'bodysite'] == 'Skin'\n",
    "indices_to_choose"
   ]
  },
  {
   "cell_type": "code",
   "execution_count": null,
   "metadata": {},
   "outputs": [],
   "source": [
    "# Get all of the files where body site is \"Skin\" using boolean list from above\n",
    "selection.loc[indices_to_choose, :]"
   ]
  },
  {
   "cell_type": "code",
   "execution_count": null,
   "metadata": {},
   "outputs": [],
   "source": [
    "# Select rows from the dataframe where body site has 1 or more counts\n",
    "selection.loc[(selection.loc[:,'bodysite'] == 'Skin') & (selection.loc[:,'S97-8603'] >= 1), :]"
   ]
  },
  {
   "cell_type": "code",
   "execution_count": null,
   "metadata": {},
   "outputs": [],
   "source": [
    "# Subset only with samples where bodysite is 'Feces'\n",
    "feces_samples = selection.loc[(selection.loc[:,'bodysite'] == 'Feces'), :]\n",
    "feces_samples"
   ]
  },
  {
   "cell_type": "code",
   "execution_count": null,
   "metadata": {},
   "outputs": [],
   "source": [
    "feces_samples.loc[(feces_samples.loc[:,'S97-100'] > 1) | (feces_samples.loc[:,'S97-13505'] > 1) | (feces_samples.loc[:,'S97-8603'] > 1),:]"
   ]
  },
  {
   "cell_type": "code",
   "execution_count": null,
   "metadata": {},
   "outputs": [],
   "source": [
    "# Only select the rows where bodysite is 'Feces'\n",
    "indices_to_choose = selection.loc[:,'bodysite'] == 'Feces'\n",
    "\n",
    "# Subset only th columns where indices_to_choose evaluates to true\n",
    "feces_samples = selection.loc[indices_to_choose, :]\n",
    "\n",
    "# Within this Feces subset, take the sum of each row\n",
    "criteria = feces_samples.sum(axis=1)\n",
    "\n",
    "# Make a boolean vector where which returns true is the sum of the row >=1\n",
    "where_greater_than_1 = criteria >= 1\n",
    "\n",
    "# Use the boolean vector to only select rows which evaluate as true\n",
    "feces_samples = feces_samples.loc[where_greater_than_1, :]\n",
    "\n",
    "# Show that we have selected only rows with at least 1 site :)\n",
    "feces_samples.head(10)"
   ]
  },
  {
   "cell_type": "markdown",
   "metadata": {},
   "source": [
    "### 3.2.6 Write to a file"
   ]
  },
  {
   "cell_type": "code",
   "execution_count": null,
   "metadata": {},
   "outputs": [],
   "source": [
    "# Save to tsv file (note 'csv' stands for comma seperated value)\n",
    "feces_samples.to_csv('./feces_subset.tsv', sep='\\t', index=False) "
   ]
  },
  {
   "cell_type": "markdown",
   "metadata": {},
   "source": [
    "### 3.2.7 Plot a pandas data frame"
   ]
  },
  {
   "cell_type": "code",
   "execution_count": null,
   "metadata": {},
   "outputs": [],
   "source": [
    "%matplotlib inline\n",
    "selection.loc[selection.bodysite == 'Oral',:].plot.hist(subplots=True)\n",
    "selection.plot.box(logy=True)"
   ]
  }
 ],
 "metadata": {
  "kernelspec": {
   "display_name": "Python 3 (ipykernel)",
   "language": "python",
   "name": "python3"
  },
  "language_info": {
   "codemirror_mode": {
    "name": "ipython",
    "version": 3
   },
   "file_extension": ".py",
   "mimetype": "text/x-python",
   "name": "python",
   "nbconvert_exporter": "python",
   "pygments_lexer": "ipython3",
   "version": "3.9.13"
  }
 },
 "nbformat": 4,
 "nbformat_minor": 4
}
