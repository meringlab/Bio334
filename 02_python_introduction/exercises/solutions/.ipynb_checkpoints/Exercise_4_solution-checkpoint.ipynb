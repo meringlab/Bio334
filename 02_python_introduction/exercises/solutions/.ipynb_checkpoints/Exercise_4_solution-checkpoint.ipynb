{
 "cells": [
  {
   "cell_type": "code",
   "execution_count": 16,
   "metadata": {},
   "outputs": [],
   "source": [
    "import sys\n",
    "import os\n",
    "import subprocess\n",
    "\n",
    "ACCEPTED_SITES = ['Skin','Oral','Feces']\n"
   ]
  },
  {
   "attachments": {},
   "cell_type": "markdown",
   "metadata": {},
   "source": [
    "## 4.1 Create the pipeline script and check the inputs"
   ]
  },
  {
   "cell_type": "code",
   "execution_count": 19,
   "metadata": {},
   "outputs": [],
   "source": [
    "sys.argv = ['analyse_microbial_samples.py', 'Skin', '../files/exercise_4/Human_Microbiome_Project/', './results']"
   ]
  },
  {
   "cell_type": "code",
   "execution_count": 20,
   "metadata": {},
   "outputs": [
    {
     "name": "stdout",
     "output_type": "stream",
     "text": [
      "Will create new output path\n"
     ]
    }
   ],
   "source": [
    "if len(sys.argv) < 4:\n",
    "\tprint(\"Need at least 3 arguments: <body site> <dataset path> <output path>\")\n",
    "\tsys.exit()\n",
    "\n",
    "body_site = sys.argv[1]\t\n",
    "\n",
    "if body_site not in ACCEPTED_SITES:\n",
    "\tprint(\"First argument has to be one of the following %s\" % ACCEPTED_SITES)\n",
    "\tsys.exit()\n",
    "\n",
    "dataset_path = sys.argv[2]\n",
    "\n",
    "if not os.path.exists(dataset_path):\n",
    "\tprint(\"Dataset path does not exist!\")\n",
    "\tsys.exit()\n",
    "\n",
    "output_path = sys.argv[3]\n",
    "\n",
    "if not os.path.exists(output_path):\n",
    "\tprint(\"Will create new output path\")\n",
    "\tos.makedirs(output_path)\n",
    "    "
   ]
  },
  {
   "attachments": {},
   "cell_type": "markdown",
   "metadata": {},
   "source": [
    "## 4.2 Filter samples"
   ]
  },
  {
   "cell_type": "code",
   "execution_count": 22,
   "metadata": {},
   "outputs": [
    {
     "name": "stdout",
     "output_type": "stream",
     "text": [
      "#Saved Skin samples in ./results/filtered_samples.txt\n"
     ]
    }
   ],
   "source": [
    "output_file_name = os.path.join(output_path, \"filtered_samples.txt\")\n",
    "\n",
    "unix_cmd = 'cat ' + dataset_path + '/*' + ' | grep ' + body_site + '> ' + output_file_name\n",
    "\n",
    "subprocess.call(unix_cmd,shell=True)\n",
    "\n",
    "print(\"#Saved %s samples in %s\" % (body_site, output_file_name))"
   ]
  },
  {
   "attachments": {},
   "cell_type": "markdown",
   "metadata": {},
   "source": [
    "## 4.3 General data set statistics"
   ]
  },
  {
   "cell_type": "code",
   "execution_count": 23,
   "metadata": {},
   "outputs": [],
   "source": [
    "import numpy as np"
   ]
  },
  {
   "cell_type": "code",
   "execution_count": 26,
   "metadata": {},
   "outputs": [
    {
     "data": {
      "text/plain": [
       "array([[ nan,   0.,   0., ...,  94., 801.,   0.],\n",
       "       [ nan,   0.,   1., ..., 150.,   0.,   0.],\n",
       "       [ nan,   0.,   1., ...,   0.,   0.,   0.],\n",
       "       ...,\n",
       "       [ nan,  23.,   0., ...,   0.,   0.,   0.],\n",
       "       [ nan,  26.,   0., ...,   0.,   0.,   0.],\n",
       "       [ nan,   8.,   0., ...,   0.,   0.,   0.]])"
      ]
     },
     "execution_count": 26,
     "metadata": {},
     "output_type": "execute_result"
    }
   ],
   "source": [
    "# read the abundances without the body site identifier in the first column\n",
    "# 1. read the data with genfromtxt\n",
    "abundance_matrix = np.genfromtxt(output_file_name)"
   ]
  },
  {
   "cell_type": "code",
   "execution_count": 27,
   "metadata": {},
   "outputs": [],
   "source": [
    "# 2. remove the first colum by array slicing\n",
    "abundance_matrix = abundance_matrix[:,1:]"
   ]
  },
  {
   "cell_type": "code",
   "execution_count": 28,
   "metadata": {},
   "outputs": [
    {
     "name": "stdout",
     "output_type": "stream",
     "text": [
      "#Found 50 Skin samples\n",
      "#Found 123 Skin microbes\n"
     ]
    }
   ],
   "source": [
    "sample_no = abundance_matrix.shape[0]\n",
    "print(\"#Found %d %s samples\" % (sample_no,body_site))\n",
    "\n",
    "microbe_no = abundance_matrix.shape[1]\n",
    "print(\"#Found %d %s microbes\" % (microbe_no,body_site))"
   ]
  },
  {
   "cell_type": "code",
   "execution_count": 29,
   "metadata": {},
   "outputs": [
    {
     "name": "stdout",
     "output_type": "stream",
     "text": [
      "\n",
      "#Summed sample abundance:\n",
      "[12894.0, 9422.0, 9057.0, 8722.0, 8407.0, 8274.0, 8082.0, 8035.0, 8029.0, 7334.0, 7034.0, 6647.0, 6637.0, 6463.0, 6440.0, 6284.0, 5977.0, 5674.0, 5518.0, 5444.0, 5301.0, 5244.0, 5208.0, 4912.0, 4566.0, 4485.0, 4170.0, 4168.0, 4120.0, 3952.0, 3931.0, 3868.0, 3846.0, 3830.0, 3693.0, 3676.0, 3571.0, 3425.0, 3422.0, 3363.0, 3352.0, 3301.0, 3238.0, 3146.0, 2992.0, 2951.0, 2610.0, 2535.0, 2273.0, 1851.0]\n"
     ]
    }
   ],
   "source": [
    "# report sorted abundances for samples\n",
    "sample_sums = abundance_matrix.sum(1)\n",
    "sorted_sums = sorted(sample_sums, reverse=True)\n",
    "\n",
    "print(\"\\n#Summed sample abundance:\")\n",
    "print(sorted_sums)"
   ]
  },
  {
   "cell_type": "code",
   "execution_count": 40,
   "metadata": {},
   "outputs": [],
   "source": [
    "# get microbe identfiers\n",
    "# adapt file path below\n",
    "with open(\"../files/exercise_4/microbe_identifiers.txt\",'r') as id_file:\n",
    "    identfiers = id_file.readline()\n",
    "\n",
    "identfiers = identfiers.split()\n",
    "microbe_means = abundance_matrix.mean(0)\n",
    "\n",
    "# zip to join microbe names and abundances\n",
    "joined_list = list(zip(identfiers, microbe_means))\n"
   ]
  },
  {
   "cell_type": "code",
   "execution_count": 41,
   "metadata": {},
   "outputs": [
    {
     "name": "stdout",
     "output_type": "stream",
     "text": [
      "\n",
      "#Mean abundance for all microbes:\n",
      "S97-100 4.46\n",
      "S97-10339 118.24\n",
      "S97-105 1.24\n",
      "S97-11531 1.68\n",
      "S97-12192 29.84\n",
      "S97-12279 29.92\n",
      "S97-13107 6.14\n",
      "S97-13490 1.92\n",
      "S97-13505 0.0\n",
      "S97-13509 3.98\n",
      "S97-13572 2.42\n",
      "S97-13582 6.32\n",
      "S97-13590 19.76\n",
      "S97-13615 6.28\n",
      "S97-13620 7.32\n",
      "S97-13681 2.3\n",
      "S97-13687 0.12\n",
      "S97-13730 55.62\n",
      "S97-13777 0.48\n",
      "S97-14419 35.36\n",
      "S97-14427 59.76\n",
      "S97-15243 2.14\n",
      "S97-15281 0.0\n",
      "S97-15881 150.3\n",
      "S97-15892 4.92\n",
      "S97-15895 14.66\n",
      "S97-15899 5.0\n",
      "S97-15912 7.16\n",
      "S97-15914 7.46\n",
      "S97-15924 9.74\n",
      "S97-16521 22.02\n",
      "S97-16835 0.0\n",
      "S97-16839 1.68\n",
      "S97-16898 296.8\n",
      "S97-17139 0.66\n",
      "S97-18697 16.28\n",
      "S97-19046 137.0\n",
      "S97-19317 22.22\n",
      "S97-19767 2.24\n",
      "S97-19775 2.22\n",
      "S97-19793 3.12\n",
      "S97-19830 15.02\n",
      "S97-19831 8.22\n",
      "S97-20219 51.78\n",
      "S97-20258 19.48\n",
      "S97-20263 111.68\n",
      "S97-20294 17.14\n",
      "S97-20690 117.34\n",
      "S97-20693 8.5\n",
      "S97-21401 98.48\n",
      "S97-2201 0.98\n",
      "S97-22223 259.6\n",
      "S97-22240 5.88\n",
      "S97-22310 19.8\n",
      "S97-22373 14.4\n",
      "S97-22378 328.18\n",
      "S97-22623 313.48\n",
      "S97-22624 566.14\n",
      "S97-22657 0.38\n",
      "S97-22710 64.88\n",
      "S97-22726 10.24\n",
      "S97-22727 251.12\n",
      "S97-22757 16.02\n",
      "S97-22881 0.42\n",
      "S97-2335 0.72\n",
      "S97-2343 1.18\n",
      "S97-2349 0.36\n",
      "S97-26149 14.34\n",
      "S97-2659 16.46\n",
      "S97-27206 6.46\n",
      "S97-27230 0.72\n",
      "S97-30077 45.8\n",
      "S97-30232 19.72\n",
      "S97-30317 0.66\n",
      "S97-31498 0.52\n",
      "S97-32920 19.76\n",
      "S97-32927 13.22\n",
      "S97-36228 6.84\n",
      "S97-3662 0.02\n",
      "S97-37471 12.48\n",
      "S97-375 36.18\n",
      "S97-391 0.1\n",
      "S97-39427 13.0\n",
      "S97-39428 30.38\n",
      "S97-39436 30.22\n",
      "S97-39454 11.9\n",
      "S97-39556 503.18\n",
      "S97-39565 14.68\n",
      "S97-39665 8.4\n",
      "S97-40435 35.16\n",
      "S97-45618 50.64\n",
      "S97-45675 12.04\n",
      "S97-45740 1.96\n",
      "S97-45837 0.5\n",
      "S97-46086 45.0\n",
      "S97-46219 0.0\n",
      "S97-46367 12.08\n",
      "S97-47381 3.2\n",
      "S97-517 104.84\n",
      "S97-522 1.76\n",
      "S97-565 119.06\n",
      "S97-57 184.36\n",
      "S97-57054 28.7\n",
      "S97-57121 18.08\n",
      "S97-7221 2.36\n",
      "S97-7692 11.38\n",
      "S97-7694 0.98\n",
      "S97-7695 1.72\n",
      "S97-7701 183.36\n",
      "S97-7702 156.0\n",
      "S97-7713 6.56\n",
      "S97-7729 4.64\n",
      "S97-7732 0.06\n",
      "S97-7733 4.06\n",
      "S97-7734 2.34\n",
      "S97-7758 1.68\n",
      "S97-7767 1.68\n",
      "S97-7777 0.82\n",
      "S97-7800 0.44\n",
      "S97-7802 2.06\n",
      "S97-7838 6.46\n",
      "S97-8377 17.46\n",
      "S97-8603 0.8\n"
     ]
    }
   ],
   "source": [
    "print(\"\\n#Mean abundance for all microbes:\")\n",
    "for identifier, mean_abundance in joined_list:\n",
    "    print(identifier, mean_abundance)"
   ]
  },
  {
   "cell_type": "code",
   "execution_count": 42,
   "metadata": {},
   "outputs": [
    {
     "name": "stdout",
     "output_type": "stream",
     "text": [
      "\n",
      "#The 10 microbes with highest abundance:\n",
      "S97-22624 566.14\n",
      "S97-39556 503.18\n",
      "S97-22378 328.18\n",
      "S97-22623 313.48\n",
      "S97-16898 296.8\n",
      "S97-22223 259.6\n",
      "S97-22727 251.12\n",
      "S97-57 184.36\n",
      "S97-7701 183.36\n",
      "S97-7702 156.0\n"
     ]
    }
   ],
   "source": [
    "#extra: report by highest incidence\n",
    "print(\"\\n#The 10 microbes with highest abundance:\")\n",
    "\n",
    "from operator import itemgetter\n",
    "joined_list.sort(reverse=True, key=itemgetter(1))\n",
    "\n",
    "for name, mean_abundance in joined_list[:10]:\n",
    "    print(name, mean_abundance)"
   ]
  },
  {
   "attachments": {},
   "cell_type": "markdown",
   "metadata": {},
   "source": [
    "## 4.4 Microbial interactions"
   ]
  },
  {
   "cell_type": "code",
   "execution_count": 43,
   "metadata": {},
   "outputs": [
    {
     "data": {
      "text/plain": [
       "0"
      ]
     },
     "execution_count": 43,
     "metadata": {},
     "output_type": "execute_result"
    }
   ],
   "source": [
    "# execute microbial interaction script\n",
    "unix_command = \"python ../files/exercise_4/compute_microbial_interactions.py \" + output_file_name\n",
    "subprocess.call(unix_command, shell=True)"
   ]
  },
  {
   "cell_type": "code",
   "execution_count": 44,
   "metadata": {},
   "outputs": [],
   "source": [
    "# retrieve interaction file\n",
    "expected_file_name = \"pairwise_interaction_strengths.txt\"\n",
    "output_file_name = os.path.join(output_path, expected_file_name)\n"
   ]
  },
  {
   "cell_type": "code",
   "execution_count": 45,
   "metadata": {},
   "outputs": [
    {
     "name": "stdout",
     "output_type": "stream",
     "text": [
      "\n",
      "#Strongest positive and the strongest negative interaction partner:\n",
      "S97-100 : S97-18697 ( 0.9526 ); S97-22624 ( -0.1771 )\n",
      "S97-10339 : S97-20294 ( 0.9468 ); S97-7702 ( -0.12 )\n",
      "S97-105 : S97-22881 ( 0.9355 ); S97-39556 ( -0.0899 )\n",
      "S97-11531 : S97-13490 ( 0.9742 ); S97-22624 ( -0.1217 )\n",
      "S97-12192 : S97-7221 ( 0.9499 ); S97-7702 ( -0.1075 )\n",
      "S97-12279 : S97-18697 ( 0.951 ); S97-22624 ( -0.177 )\n",
      "S97-13107 : S97-39454 ( 0.9952 ); S97-22624 ( -0.1177 )\n",
      "S97-13490 : S97-11531 ( 0.9742 ); S97-22624 ( -0.0966 )\n",
      "S97-13505 : S97-100 ( 0.0 ); S97-100 ( 0.0 )\n",
      "S97-13509 : S97-7729 ( 0.9478 ); S97-22624 ( -0.1161 )\n",
      "S97-13572 : S97-15243 ( 0.9664 ); S97-22624 ( -0.1152 )\n",
      "S97-13582 : S97-3662 ( 1.0 ); S97-20258 ( -0.0654 )\n",
      "S97-13590 : S97-7692 ( 0.9582 ); S97-7702 ( -0.0806 )\n",
      "S97-13615 : S97-7221 ( 0.7962 ); S97-22624 ( -0.1809 )\n",
      "S97-13620 : S97-57121 ( 0.9696 ); S97-27230 ( -0.074 )\n",
      "S97-13681 : S97-7838 ( 0.9713 ); S97-22624 ( -0.0759 )\n",
      "S97-13687 : S97-22624 ( 0.4181 ); S97-7702 ( -0.0754 )\n",
      "S97-13730 : S97-100 ( 0.9474 ); S97-22624 ( -0.18 )\n",
      "S97-13777 : S97-11531 ( 0.8945 ); S97-39556 ( -0.0992 )\n",
      "S97-14419 : S97-32920 ( 0.8647 ); S97-22624 ( -0.1554 )\n",
      "S97-14427 : S97-565 ( 0.8397 ); S97-22624 ( -0.1827 )\n",
      "S97-15243 : S97-13572 ( 0.9664 ); S97-22624 ( -0.1261 )\n",
      "S97-15281 : S97-100 ( 0.0 ); S97-100 ( 0.0 )\n",
      "S97-15881 : S97-7701 ( 0.7328 ); S97-22624 ( -0.2124 )\n",
      "S97-15892 : S97-30232 ( 0.9249 ); S97-22624 ( -0.1692 )\n",
      "S97-15895 : S97-22310 ( 0.9501 ); S97-22624 ( -0.1366 )\n",
      "S97-15899 : S97-20690 ( 0.9061 ); S97-22624 ( -0.1865 )\n",
      "S97-15912 : S97-15924 ( 0.9262 ); S97-22624 ( -0.1736 )\n",
      "S97-15914 : S97-36228 ( 0.8634 ); S97-22624 ( -0.2035 )\n",
      "S97-15924 : S97-15912 ( 0.9262 ); S97-22624 ( -0.1832 )\n",
      "S97-16521 : S97-30317 ( 0.8988 ); S97-22624 ( -0.0882 )\n",
      "S97-16835 : S97-100 ( 0.0 ); S97-100 ( 0.0 )\n",
      "S97-16839 : S97-522 ( 0.9817 ); S97-22624 ( -0.0823 )\n",
      "S97-16898 : S97-22881 ( 0.2206 ); S97-22624 ( -0.096 )\n",
      "S97-17139 : S97-22881 ( 0.9826 ); S97-22223 ( -0.0556 )\n",
      "S97-18697 : S97-100 ( 0.9526 ); S97-22624 ( -0.1486 )\n",
      "S97-19046 : S97-20263 ( 0.9707 ); S97-22624 ( -0.1006 )\n",
      "S97-19317 : S97-13730 ( 0.9284 ); S97-22624 ( -0.1595 )\n",
      "S97-19767 : S97-22881 ( 0.9873 ); S97-39556 ( -0.0595 )\n",
      "S97-19775 : S97-19793 ( 0.9439 ); S97-22624 ( -0.1187 )\n",
      "S97-19793 : S97-13107 ( 0.9696 ); S97-22624 ( -0.1176 )\n",
      "S97-19830 : S97-39436 ( 0.7517 ); S97-22624 ( -0.1496 )\n",
      "S97-19831 : S97-47381 ( 0.8098 ); S97-22624 ( -0.0944 )\n",
      "S97-20219 : S97-57 ( 0.0326 ); S97-22624 ( -0.0753 )\n",
      "S97-20258 : S97-15895 ( 0.634 ); S97-22624 ( -0.2176 )\n",
      "S97-20263 : S97-19046 ( 0.9707 ); S97-45618 ( -0.1091 )\n",
      "S97-20294 : S97-10339 ( 0.9468 ); S97-20258 ( -0.0701 )\n",
      "S97-20690 : S97-565 ( 0.9145 ); S97-22624 ( -0.1996 )\n",
      "S97-20693 : S97-40435 ( 0.7693 ); S97-39556 ( -0.1117 )\n",
      "S97-21401 : S97-2335 ( 0.259 ); S97-22624 ( -0.0683 )\n",
      "S97-2201 : S97-522 ( 0.9791 ); S97-22624 ( -0.0867 )\n",
      "S97-22223 : S97-22624 ( 0.3546 ); S97-7702 ( -0.1498 )\n",
      "S97-22240 : S97-15912 ( 0.847 ); S97-22624 ( -0.1753 )\n",
      "S97-22310 : S97-15895 ( 0.9501 ); S97-22624 ( -0.1548 )\n",
      "S97-22373 : S97-22727 ( 0.8515 ); S97-7702 ( -0.1014 )\n",
      "S97-22378 : S97-22623 ( 0.157 ); S97-20258 ( -0.1195 )\n",
      "S97-22623 : S97-39556 ( 0.4711 ); S97-20258 ( -0.1351 )\n",
      "S97-22624 : S97-13687 ( 0.4181 ); S97-7702 ( -0.2319 )\n",
      "S97-22657 : S97-7729 ( 0.9897 ); S97-22624 ( -0.0884 )\n",
      "S97-22710 : S97-45740 ( 0.2044 ); S97-22624 ( -0.0796 )\n",
      "S97-22726 : S97-32920 ( 0.9049 ); S97-22223 ( -0.1121 )\n",
      "S97-22727 : S97-22373 ( 0.8515 ); S97-7702 ( -0.1308 )\n",
      "S97-22757 : S97-19046 ( 0.7412 ); S97-20258 ( -0.068 )\n",
      "S97-22881 : S97-45837 ( 1.0 ); S97-22624 ( -0.059 )\n",
      "S97-2335 : S97-7734 ( 0.9311 ); S97-22624 ( -0.122 )\n",
      "S97-2343 : S97-7777 ( 0.7994 ); S97-22624 ( -0.1201 )\n",
      "S97-2349 : S97-22881 ( 0.9922 ); S97-22624 ( -0.0681 )\n",
      "S97-26149 : S97-19793 ( 0.8782 ); S97-22624 ( -0.1473 )\n",
      "S97-2659 : S97-12192 ( 0.937 ); S97-7702 ( -0.1268 )\n",
      "S97-27206 : S97-19793 ( 0.6856 ); S97-22624 ( -0.1628 )\n",
      "S97-27230 : S97-46367 ( 0.6845 ); S97-22624 ( -0.1995 )\n",
      "S97-30077 : S97-565 ( 0.9034 ); S97-22624 ( -0.1695 )\n",
      "S97-30232 : S97-15892 ( 0.9249 ); S97-22624 ( -0.1802 )\n",
      "S97-30317 : S97-16521 ( 0.8988 ); S97-22624 ( -0.1297 )\n",
      "S97-31498 : S97-13490 ( 0.9252 ); S97-22624 ( -0.0881 )\n",
      "S97-32920 : S97-39565 ( 0.9681 ); S97-22624 ( -0.109 )\n",
      "S97-32927 : S97-40435 ( 0.7558 ); S97-22223 ( -0.0877 )\n",
      "S97-36228 : S97-19767 ( 0.9375 ); S97-22624 ( -0.1215 )\n",
      "S97-3662 : S97-13582 ( 1.0 ); S97-20258 ( -0.067 )\n",
      "S97-37471 : S97-26149 ( 0.8767 ); S97-22624 ( -0.1211 )\n",
      "S97-375 : S97-57 ( 0.8523 ); S97-22624 ( -0.1496 )\n",
      "S97-391 : S97-22881 ( 0.904 ); S97-22624 ( -0.0999 )\n",
      "S97-39427 : S97-39428 ( 0.9558 ); S97-22624 ( -0.0917 )\n",
      "S97-39428 : S97-39427 ( 0.9558 ); S97-22624 ( -0.07 )\n",
      "S97-39436 : S97-19830 ( 0.7517 ); S97-22624 ( -0.1248 )\n",
      "S97-39454 : S97-13107 ( 0.9952 ); S97-22624 ( -0.1186 )\n",
      "S97-39556 : S97-22623 ( 0.4711 ); S97-22624 ( -0.1618 )\n",
      "S97-39565 : S97-32920 ( 0.9681 ); S97-22624 ( -0.0865 )\n",
      "S97-39665 : S97-19830 ( 0.7193 ); S97-22624 ( -0.2163 )\n",
      "S97-40435 : S97-20693 ( 0.7693 ); S97-22624 ( -0.1307 )\n",
      "S97-45618 : S97-30232 ( 0.8107 ); S97-22624 ( -0.2188 )\n",
      "S97-45675 : S97-57121 ( 0.9875 ); S97-22624 ( -0.0699 )\n",
      "S97-45740 : S97-22657 ( 0.7618 ); S97-22624 ( -0.1316 )\n",
      "S97-45837 : S97-22881 ( 1.0 ); S97-22624 ( -0.059 )\n",
      "S97-46086 : S97-15899 ( 0.7405 ); S97-22624 ( -0.2079 )\n",
      "S97-46219 : S97-100 ( 0.0 ); S97-100 ( 0.0 )\n",
      "S97-46367 : S97-15881 ( 0.7063 ); S97-22624 ( -0.1098 )\n",
      "S97-47381 : S97-22240 ( 0.8411 ); S97-22624 ( -0.1319 )\n",
      "S97-517 : S97-57054 ( 0.9993 ); S97-22624 ( -0.0756 )\n",
      "S97-522 : S97-8377 ( 0.9987 ); S97-22624 ( -0.0773 )\n",
      "S97-565 : S97-20690 ( 0.9145 ); S97-22624 ( -0.2033 )\n",
      "S97-57 : S97-375 ( 0.8523 ); S97-22624 ( -0.1612 )\n",
      "S97-57054 : S97-517 ( 0.9993 ); S97-22624 ( -0.0798 )\n",
      "S97-57121 : S97-7692 ( 0.9964 ); S97-20258 ( -0.0637 )\n",
      "S97-7221 : S97-12192 ( 0.9499 ); S97-22624 ( -0.1187 )\n",
      "S97-7692 : S97-13582 ( 0.9991 ); S97-7702 ( -0.0646 )\n",
      "S97-7694 : S97-7777 ( 0.7703 ); S97-22624 ( -0.1076 )\n",
      "S97-7695 : S97-13490 ( 0.9709 ); S97-39556 ( -0.0865 )\n",
      "S97-7701 : S97-15881 ( 0.7328 ); S97-22624 ( -0.2128 )\n",
      "S97-7702 : S97-20690 ( 0.7378 ); S97-22624 ( -0.2319 )\n",
      "S97-7713 : S97-12192 ( 0.8212 ); S97-27230 ( -0.1065 )\n",
      "S97-7729 : S97-22657 ( 0.9897 ); S97-22624 ( -0.0832 )\n",
      "S97-7732 : S97-22881 ( 1.0 ); S97-22624 ( -0.059 )\n",
      "S97-7733 : S97-7838 ( 0.9265 ); S97-22624 ( -0.1298 )\n",
      "S97-7734 : S97-7758 ( 0.9503 ); S97-22624 ( -0.1266 )\n",
      "S97-7758 : S97-22657 ( 0.9857 ); S97-22624 ( -0.098 )\n",
      "S97-7767 : S97-13615 ( 0.519 ); S97-22624 ( -0.1273 )\n",
      "S97-7777 : S97-2343 ( 0.7994 ); S97-22624 ( -0.0983 )\n",
      "S97-7800 : S97-8603 ( 0.9811 ); S97-39556 ( -0.0855 )\n",
      "S97-7802 : S97-45675 ( 0.9532 ); S97-7702 ( -0.0938 )\n",
      "S97-7838 : S97-13681 ( 0.9713 ); S97-22624 ( -0.0995 )\n",
      "S97-8377 : S97-522 ( 0.9987 ); S97-20258 ( -0.06 )\n",
      "S97-8603 : S97-7800 ( 0.9811 ); S97-22624 ( -0.1167 )\n"
     ]
    }
   ],
   "source": [
    "print(\"\\n#Strongest positive and the strongest negative interaction partner:\")\n",
    "\n",
    "# loop through all the lines in the interaction file\n",
    "with open(output_file_name,'r') as f:\n",
    "\n",
    "    # Keep track of the current row/line to avoid self-relationships\n",
    "    current_idx = 0\n",
    "    for line in f:\n",
    "\n",
    "        # Initialize two pairs of variables to store the strongest:\n",
    "\n",
    "        # negative interaction partner\n",
    "        min_val = 2.0\n",
    "        min_idx = -1\n",
    "\n",
    "        # positive interaction partner\n",
    "        max_val = -2.0\n",
    "        max_idx = -1\n",
    "\n",
    "        # use the built-in enumerate function to return both element and index\n",
    "        for idx, element in enumerate(line.rstrip().split()):\n",
    "\n",
    "            # transform the elmenent into a floating point value\n",
    "            val = float(element)\n",
    "\n",
    "            if idx == current_idx:\n",
    "                # skip self-interactions\n",
    "                continue\n",
    "\n",
    "            if val > max_val:\n",
    "                max_val = val\n",
    "                max_idx = idx\n",
    "\n",
    "            if val < min_val:\n",
    "                min_val = val\n",
    "                min_idx = idx\n",
    "\n",
    "        # Output the desired result\n",
    "        print(identfiers[current_idx], \":\", identfiers[max_idx], \"(\", max_val, \");\", identfiers[min_idx], \"(\", min_val, \")\")\n",
    "\n",
    "        # Update the current line/row index\n",
    "        current_idx += 1"
   ]
  },
  {
   "attachments": {},
   "cell_type": "markdown",
   "metadata": {},
   "source": [
    "## Bonus: computing correlations with numpy and timing them"
   ]
  },
  {
   "cell_type": "code",
   "execution_count": 46,
   "metadata": {},
   "outputs": [],
   "source": [
    "# correlation function from compute_microbial_interactions.py\n",
    "import math\n",
    "\n",
    "def infer_interactions(data_set):\n",
    "    number_samples = len(data_set)\n",
    "    number_otus = len(data_set[0])\n",
    "    otu_freqs = [0] * number_otus\n",
    "    for data_row in data_set:\n",
    "        for i in range(len(data_row)):\n",
    "            otu_freqs[i] += data_row[i]\n",
    "\n",
    "    mean_freqs = [freq / float(number_samples) for freq in otu_freqs]\n",
    "\n",
    "    var_covar_matrix = [[0.0] * number_otus for i in range(number_otus)]\n",
    "    for i in range(number_otus):\n",
    "        for j in range(number_otus):\n",
    "            for k in range(number_samples):\n",
    "                var_covar_matrix[i][j] += (data_set[k][i] - mean_freqs[i]) * (data_set[k][j] - mean_freqs[j])\n",
    "\n",
    "    for i in range(number_otus):\n",
    "        for j in range(number_otus):\n",
    "            var_covar_matrix[i][j] = var_covar_matrix[i][j] / number_samples\n",
    "\n",
    "\n",
    "    interaction_matrix = [[0.0] * number_otus for i in range(number_otus)]\n",
    "    for i in range(number_otus):\n",
    "        for j in range(number_otus):\n",
    "            cov_ij = var_covar_matrix[i][j]\n",
    "            std_i = math.sqrt(var_covar_matrix[i][i])\n",
    "            std_j = math.sqrt(var_covar_matrix[j][j])\n",
    "\n",
    "            denom = (std_i * std_j)\n",
    "\n",
    "            if denom == 0:\n",
    "                interaction_matrix[i][j] = 0.0\n",
    "            else:\n",
    "                interaction_matrix[i][j] = cov_ij / (std_i * std_j)\n",
    "\n",
    "    return interaction_matrix"
   ]
  },
  {
   "cell_type": "code",
   "execution_count": 47,
   "metadata": {},
   "outputs": [
    {
     "name": "stdout",
     "output_type": "stream",
     "text": [
      "\n",
      "Timing for naive correlation function:\n"
     ]
    },
    {
     "name": "stderr",
     "output_type": "stream",
     "text": [
      "/var/folders/9n/_kx84t150s56cnbrqjjcmbz16n_bn0/T/ipykernel_16291/471947155.py:11: DeprecationWarning: `magic(...)` is deprecated since IPython 0.13 (warning added in 8.1), use run_line_magic(magic_name, parameter_s).\n",
      "  ipython.magic(\"timeit infer_interactions(abundance_matrix)\")\n"
     ]
    },
    {
     "name": "stdout",
     "output_type": "stream",
     "text": [
      "488 ms ± 10.5 ms per loop (mean ± std. dev. of 7 runs, 1 loop each)\n",
      "\n",
      "Timing for numpy correlations:\n"
     ]
    },
    {
     "name": "stderr",
     "output_type": "stream",
     "text": [
      "/var/folders/9n/_kx84t150s56cnbrqjjcmbz16n_bn0/T/ipykernel_16291/471947155.py:17: DeprecationWarning: `magic(...)` is deprecated since IPython 0.13 (warning added in 8.1), use run_line_magic(magic_name, parameter_s).\n",
      "  ipython.magic(\"timeit np.corrcoef(abundance_matrix, rowvar=0)\")\n",
      "/Library/Frameworks/Python.framework/Versions/3.10/lib/python3.10/site-packages/numpy/lib/function_base.py:2829: RuntimeWarning: invalid value encountered in true_divide\n",
      "  c /= stddev[:, None]\n",
      "/Library/Frameworks/Python.framework/Versions/3.10/lib/python3.10/site-packages/numpy/lib/function_base.py:2830: RuntimeWarning: invalid value encountered in true_divide\n",
      "  c /= stddev[None, :]\n"
     ]
    },
    {
     "name": "stdout",
     "output_type": "stream",
     "text": [
      "201 µs ± 4.1 µs per loop (mean ± std. dev. of 7 runs, 1,000 loops each)\n"
     ]
    }
   ],
   "source": [
    "# time it\n",
    "\n",
    "print(\"\\nTiming for naive correlation function:\")\n",
    "\n",
    "## with the ipython shell:\n",
    "#%timeit  np.corrcoef(abundance_matrix, rowvar=0)\n",
    "\n",
    "## within this script its slightly more complicated:\n",
    "from IPython import get_ipython\n",
    "ipython = get_ipython()\n",
    "ipython.magic(\"timeit infer_interactions(abundance_matrix)\")\n",
    "\n",
    "\n",
    "print(\"\\nTiming for numpy correlations:\")\n",
    "# compare to timing from numpy function\n",
    "#%timeit  np.corrcoef(abundance_matrix, rowvar=0) # OR\n",
    "ipython.magic(\"timeit np.corrcoef(abundance_matrix, rowvar=0)\")"
   ]
  }
 ],
 "metadata": {
  "kernelspec": {
   "display_name": "Python 3",
   "language": "python",
   "name": "python3"
  },
  "language_info": {
   "codemirror_mode": {
    "name": "ipython",
    "version": 3
   },
   "file_extension": ".py",
   "mimetype": "text/x-python",
   "name": "python",
   "nbconvert_exporter": "python",
   "pygments_lexer": "ipython3",
   "version": "3.10.4"
  },
  "orig_nbformat": 4
 },
 "nbformat": 4,
 "nbformat_minor": 2
}
