{
 "cells": [
  {
   "cell_type": "markdown",
   "metadata": {},
   "source": [
    "# 1 Exercise : List transformation"
   ]
  },
  {
   "cell_type": "markdown",
   "metadata": {},
   "source": [
    "## 1.1 Transform an interval of numbers"
   ]
  },
  {
   "cell_type": "markdown",
   "metadata": {},
   "source": [
    "### 1.1.1 Square elements of a list"
   ]
  },
  {
   "cell_type": "code",
   "execution_count": 1,
   "metadata": {},
   "outputs": [
    {
     "name": "stdout",
     "output_type": "stream",
     "text": [
      "sq_interval: [0, 1, 4, 9, 16, 25, 36, 49, 64, 81, 100, 121, 144, 169, 196, 225, 256, 289, 324, 361, 400]\n"
     ]
    }
   ],
   "source": [
    "interval = range(21)\n",
    "sq_interval = []\n",
    "\n",
    "for i in interval:\n",
    "    sq_interval.append(i ** 2)\n",
    "print('sq_interval:', sq_interval)"
   ]
  },
  {
   "cell_type": "markdown",
   "metadata": {},
   "source": [
    "### 1.1.2 Remove odd numbers from the squared list"
   ]
  },
  {
   "cell_type": "code",
   "execution_count": 2,
   "metadata": {},
   "outputs": [
    {
     "name": "stdout",
     "output_type": "stream",
     "text": [
      "even_sq_interval: [0, 4, 16, 36, 64, 100, 144, 196, 256, 324, 400]\n"
     ]
    }
   ],
   "source": [
    "even_sq_interval = []\n",
    "for i in sq_interval:\n",
    "    if i % 2 == 0:\n",
    "        even_sq_interval.append(i)\n",
    "\n",
    "print('even_sq_interval:', even_sq_interval)"
   ]
  },
  {
   "cell_type": "markdown",
   "metadata": {},
   "source": [
    "## 1.2 Transform a corrupted string"
   ]
  },
  {
   "cell_type": "markdown",
   "metadata": {},
   "source": [
    "### 1.2.1 Remove white space and convert sequences to capital letters"
   ]
  },
  {
   "cell_type": "code",
   "execution_count": 3,
   "metadata": {},
   "outputs": [
    {
     "name": "stdout",
     "output_type": "stream",
     "text": [
      "dna_pieces: ['aACTa', 'TtCcC', 'acCtc', 'caTCC', 'CGGCc', 'TaTaT', 'CTGaa']\n"
     ]
    }
   ],
   "source": [
    "some_dna = 'aACTa TtCcC acCtc\\tcaTCC CGGCc\\nTaTaT CTGaa'\n",
    "dna_pieces = some_dna.split()\n",
    "print('dna_pieces:', dna_pieces)"
   ]
  },
  {
   "cell_type": "markdown",
   "metadata": {},
   "source": [
    "### 1.2.2 Convert the pieces into capital letters and combine them into a multi-line string"
   ]
  },
  {
   "cell_type": "code",
   "execution_count": 4,
   "metadata": {},
   "outputs": [
    {
     "name": "stdout",
     "output_type": "stream",
     "text": [
      "final string:\n",
      "AACTA\n",
      "TTCCC\n",
      "ACCTC\n",
      "CATCC\n",
      "CGGCC\n",
      "TATAT\n",
      "CTGAA\n"
     ]
    }
   ],
   "source": [
    "upper_dna_pieces = []\n",
    "for piece in dna_pieces:\n",
    "    upper_dna_pieces.append(piece.upper())\n",
    "\n",
    "upper_dna_string = '\\n'.join(upper_dna_pieces)\n",
    "print('final string:\\n' + upper_dna_string)"
   ]
  },
  {
   "cell_type": "markdown",
   "metadata": {},
   "source": [
    "# 2 Exercise : Nucleotide counting"
   ]
  },
  {
   "cell_type": "markdown",
   "metadata": {},
   "source": [
    "## 2.1 Create the function"
   ]
  },
  {
   "cell_type": "code",
   "execution_count": 5,
   "metadata": {},
   "outputs": [
    {
     "name": "stdout",
     "output_type": "stream",
     "text": [
      "files/exercise_2/strange_dna.txt\n"
     ]
    }
   ],
   "source": [
    "def count_nucleotides(file_name):\n",
    "    print(file_name)\n",
    "    \n",
    "file_name = \"files/exercise_2/strange_dna.txt\"\n",
    "count_nucleotides(file_name)"
   ]
  },
  {
   "cell_type": "markdown",
   "metadata": {},
   "source": [
    "## 2.2 Read the .txt file"
   ]
  },
  {
   "cell_type": "code",
   "execution_count": 6,
   "metadata": {},
   "outputs": [
    {
     "name": "stdout",
     "output_type": "stream",
     "text": [
      "TACGGGGCCGACATCTGCGGGGGGGGCGGGGCGGCCCCCGGTCAGACCAGAAAGGAGGCACCCCGCTTCCGCCGTGACTGGCATGTCGGGAGCGGGCCCCGAGCCAGGCCGCTGAGGGGCCGCCCTGCGCGCGACCCGCAGGGGCCCGCGGCGCCGACCAGCCGCCCCGCCCAGCCCCCTCGCGCTTCGACGGTCCGCAACGCGCCAAGCCTCGCGAGCGCCGGCGCCTCCGACCGCGGGTGAGACCGCGGCGCGCGTAACGCGCTCCAGTGCCAGGCGCGTCCCCTTACGCCCGCGGGCAGTCCCCGGGCAGACACACGGAGGACCGGGATCAAATTGAACCCAGAGCATCACGACACCACGGCCGGGGCCCCGCAACCCGGGGTGGGAGCGGGACAGA\n"
     ]
    }
   ],
   "source": [
    "def count_nucleotides(file_name):   \n",
    "    dna_file = open(file_name, 'r')\n",
    "    DNA = ''\n",
    "    for line in dna_file:\n",
    "        dna_line = line.strip()\n",
    "        DNA += dna_line\n",
    "    dna_file.close()\n",
    "    print(DNA)\n",
    "    return DNA\n",
    "\n",
    "file_name = \"files/exercise_2/strange_dna.txt\"\n",
    "DNA = count_nucleotides(file_name)"
   ]
  },
  {
   "cell_type": "markdown",
   "metadata": {},
   "source": [
    "## 2.3 Scan the sequence and count nucleotides"
   ]
  },
  {
   "cell_type": "code",
   "execution_count": 7,
   "metadata": {},
   "outputs": [],
   "source": [
    "## 2 (of many potential) variations to solve this problem are shown below\n",
    "## using 4 variables\n",
    "A = 0\n",
    "C = 0\n",
    "G = 0\n",
    "T = 0\n",
    "for nucleotide in DNA:\n",
    "    if nucleotide == 'A':\n",
    "        A += 1\n",
    "    elif nucleotide == 'C':\n",
    "        C += 1\n",
    "    elif nucleotide == 'G':\n",
    "        G += 1\n",
    "    elif nucleotide == 'T':\n",
    "        T += 1    "
   ]
  },
  {
   "cell_type": "code",
   "execution_count": 8,
   "metadata": {},
   "outputs": [],
   "source": [
    "## using a dict\n",
    "nucleotide_counts = {'A': 0, 'C':0, 'G':0, 'T':0}\n",
    "for nucleotide in DNA:\n",
    "    nucleotide_counts[nucleotide] += 1"
   ]
  },
  {
   "cell_type": "markdown",
   "metadata": {},
   "source": [
    "## 2.4 Report the results"
   ]
  },
  {
   "cell_type": "code",
   "execution_count": 9,
   "metadata": {},
   "outputs": [
    {
     "name": "stdout",
     "output_type": "stream",
     "text": [
      "Number of A: 62\n",
      "Number of C: 159\n",
      "Number of G: 148\n",
      "Number of T: 31\n"
     ]
    }
   ],
   "source": [
    "## using 4 variables\n",
    "print('Number of A:', A)\n",
    "print('Number of C:', C)\n",
    "print('Number of G:', G)\n",
    "print('Number of T:', T)"
   ]
  },
  {
   "cell_type": "code",
   "execution_count": 10,
   "metadata": {},
   "outputs": [
    {
     "name": "stdout",
     "output_type": "stream",
     "text": [
      "Number of A : 62\n",
      "Number of C : 159\n",
      "Number of G : 148\n",
      "Number of T : 31\n"
     ]
    }
   ],
   "source": [
    "## using a dict\n",
    "for key_value_pair in nucleotide_counts.items():\n",
    "    nucleotide = key_value_pair[0]\n",
    "    count = key_value_pair[1]\n",
    "    print('Number of', nucleotide, ':', count)"
   ]
  },
  {
   "cell_type": "code",
   "execution_count": null,
   "metadata": {},
   "outputs": [],
   "source": []
  }
 ],
 "metadata": {
  "kernelspec": {
   "display_name": "Python 3",
   "language": "python",
   "name": "python3"
  },
  "language_info": {
   "codemirror_mode": {
    "name": "ipython",
    "version": 3
   },
   "file_extension": ".py",
   "mimetype": "text/x-python",
   "name": "python",
   "nbconvert_exporter": "python",
   "pygments_lexer": "ipython3",
   "version": "3.7.7"
  }
 },
 "nbformat": 4,
 "nbformat_minor": 4
}
