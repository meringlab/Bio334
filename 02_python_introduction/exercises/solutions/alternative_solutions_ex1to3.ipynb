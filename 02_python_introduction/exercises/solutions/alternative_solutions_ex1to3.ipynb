{
 "cells": [
  {
   "cell_type": "code",
   "execution_count": 1,
   "id": "toxic-smart",
   "metadata": {},
   "outputs": [],
   "source": [
    "import numpy as np"
   ]
  },
  {
   "cell_type": "code",
   "execution_count": 2,
   "id": "fancy-chamber",
   "metadata": {},
   "outputs": [
    {
     "name": "stdout",
     "output_type": "stream",
     "text": [
      "range(0, 21)\n",
      "[0, 1, 4, 9, 16, 25, 36, 49, 64, 81, 100, 121, 144, 169, 196, 225, 256, 289, 324, 361, 400]\n"
     ]
    }
   ],
   "source": [
    "# Create integer list from 0-20 inclusive\n",
    "interval = range(0, 21) # the upper range is often exluded in python - need to increment by =1\n",
    "sq_interval = []\n",
    "\n",
    "\n",
    "# Iterate and square each element in the list\n",
    "for i, x in enumerate(interval):\n",
    "    sqrd_value = x**2\n",
    "    sq_interval.append(sqrd_value)\n",
    "    \n",
    "print(interval)\n",
    "print(sq_interval)\n",
    "\n"
   ]
  },
  {
   "cell_type": "code",
   "execution_count": 3,
   "id": "figured-corrections",
   "metadata": {},
   "outputs": [
    {
     "name": "stdout",
     "output_type": "stream",
     "text": [
      "[0, 4, 16, 36, 64, 100, 144, 196, 256, 324, 400]\n"
     ]
    }
   ],
   "source": [
    "# Remove odd number from even_sq_interval\n",
    "\n",
    "for i, x in enumerate(sq_interval):\n",
    "    # If x is not exactly divisible by 2, remove the value\n",
    "    if (x%2) != 0:\n",
    "        del sq_interval[i]\n",
    "        \n",
    "print(sq_interval)"
   ]
  },
  {
   "cell_type": "code",
   "execution_count": 4,
   "id": "acute-institute",
   "metadata": {},
   "outputs": [
    {
     "name": "stdout",
     "output_type": "stream",
     "text": [
      "\n"
     ]
    },
    {
     "data": {
      "text/plain": [
       "['aACTa', 'TtCcC', 'acCtct', 'caTCC', 'CGGCc', 'TaTaT', 'CTGaa']"
      ]
     },
     "execution_count": 4,
     "metadata": {},
     "output_type": "execute_result"
    }
   ],
   "source": [
    "# Transform a corrupted string - remove spaces tabs and newlines\n",
    "some_dna = \"aACTa TtCcC acCtct\\tcaTCC CGGCc\\nTaTaT CTGaa\"\n",
    "dna_pieces = some_dna.split()\n",
    "print()\n",
    "dna_pieces"
   ]
  },
  {
   "cell_type": "code",
   "execution_count": 5,
   "id": "spiritual-valuable",
   "metadata": {},
   "outputs": [
    {
     "name": "stdout",
     "output_type": "stream",
     "text": [
      "AACTA\n",
      "TTCCC\n",
      "ACCTCT\n",
      "CATCC\n",
      "CGGCC\n",
      "TATAT\n",
      "CTGAA\n"
     ]
    }
   ],
   "source": [
    "# Transform a corrupted string - convert to CAPS and and join elements using newline '\\n' character\n",
    "for i, x in enumerate(dna_pieces):\n",
    "    x = x.upper()\n",
    "    dna_pieces[i] = x\n",
    "\n",
    "# Join all pieces using newline operator\n",
    "dna_pieces = \"\\n\".join(dna_pieces)\n",
    "print(dna_pieces)"
   ]
  },
  {
   "cell_type": "code",
   "execution_count": 6,
   "id": "difficult-alcohol",
   "metadata": {},
   "outputs": [],
   "source": [
    "def count_nucleotides(path):\n",
    "    DNA = []\n",
    "    with open(path, 'r') as f:\n",
    "        for line in f.readlines():\n",
    "            DNA += line.strip()\n",
    "    return \"\".join(DNA)\n",
    "    "
   ]
  },
  {
   "cell_type": "code",
   "execution_count": 7,
   "id": "fewer-father",
   "metadata": {},
   "outputs": [
    {
     "name": "stdout",
     "output_type": "stream",
     "text": [
      "TACGGGGCCGACATCTGCGGGGGGGGCGGGGCGGCCCCCGGTCAGACCAGAAAGGAGGCACCCCGCTTCCGCCGTGACTGGCATGTCGGGAGCGGGCCCCGAGCCAGGCCGCTGAGGGGCCGCCCTGCGCGCGACCCGCAGGGGCCCGCGGCGCCGACCAGCCGCCCCGCCCAGCCCCCTCGCGCTTCGACGGTCCGCAACGCGCCAAGCCTCGCGAGCGCCGGCGCCTCCGACCGCGGGTGAGACCGCGGCGCGCGTAACGCGCTCCAGTGCCAGGCGCGTCCCCTTACGCCCGCGGGCAGTCCCCGGGCAGACACACGGAGGACCGGGATCAAATTGAACCCAGAGCATCACGACACCACGGCCGGGGCCCCGCAACCCGGGGTGGGAGCGGGACAGA\n"
     ]
    }
   ],
   "source": [
    "file_path = \"files/exercise_2/strange_dna.txt\"\n",
    "DNA = count_nucleotides(path=file_path)\n",
    "print(DNA)"
   ]
  },
  {
   "cell_type": "code",
   "execution_count": 8,
   "id": "minus-orleans",
   "metadata": {},
   "outputs": [
    {
     "data": {
      "text/plain": [
       "{'A': 62, 'T': 31, 'C': 159, 'G': 148}"
      ]
     },
     "execution_count": 8,
     "metadata": {},
     "output_type": "execute_result"
    }
   ],
   "source": [
    "# Count the number of nucleotides in the string using a dictionary and for-loop\n",
    "counts = {\"A\":0, \"T\":0, \"C\":0, \"G\":0}\n",
    "for x in DNA:\n",
    "    counts[str(x)] += 1\n",
    "counts\n",
    "    "
   ]
  },
  {
   "cell_type": "code",
   "execution_count": 161,
   "id": "bright-component",
   "metadata": {},
   "outputs": [
    {
     "data": {
      "text/plain": [
       "mouse    0.2\n",
       "duck     4.5\n",
       "snake    2.4\n",
       "dtype: float64"
      ]
     },
     "execution_count": 161,
     "metadata": {},
     "output_type": "execute_result"
    }
   ],
   "source": [
    "import pandas as pd\n",
    "animals = [0.2, 4.5, 2.4]\n",
    "animal_series = pd.Series(animals)\n",
    "animal_series.index = ['mouse', 'duck', 'snake']\n",
    "animal_series"
   ]
  },
  {
   "cell_type": "code",
   "execution_count": 162,
   "id": "greek-court",
   "metadata": {},
   "outputs": [],
   "source": [
    "animal_series_2 = animal_series **2"
   ]
  },
  {
   "cell_type": "code",
   "execution_count": 163,
   "id": "ceramic-dream",
   "metadata": {},
   "outputs": [
    {
     "data": {
      "text/plain": [
       "mouse     0.04\n",
       "duck     20.25\n",
       "snake     5.76\n",
       "dtype: float64"
      ]
     },
     "execution_count": 163,
     "metadata": {},
     "output_type": "execute_result"
    }
   ],
   "source": [
    "animal_series_2"
   ]
  },
  {
   "cell_type": "code",
   "execution_count": 164,
   "id": "incident-jamaica",
   "metadata": {},
   "outputs": [
    {
     "data": {
      "text/html": [
       "<div>\n",
       "<style scoped>\n",
       "    .dataframe tbody tr th:only-of-type {\n",
       "        vertical-align: middle;\n",
       "    }\n",
       "\n",
       "    .dataframe tbody tr th {\n",
       "        vertical-align: top;\n",
       "    }\n",
       "\n",
       "    .dataframe thead th {\n",
       "        text-align: right;\n",
       "    }\n",
       "</style>\n",
       "<table border=\"1\" class=\"dataframe\">\n",
       "  <thead>\n",
       "    <tr style=\"text-align: right;\">\n",
       "      <th></th>\n",
       "      <th>mouse</th>\n",
       "      <th>duck</th>\n",
       "      <th>snake</th>\n",
       "    </tr>\n",
       "  </thead>\n",
       "  <tbody>\n",
       "    <tr>\n",
       "      <th>0</th>\n",
       "      <td>0.20</td>\n",
       "      <td>4.50</td>\n",
       "      <td>2.40</td>\n",
       "    </tr>\n",
       "    <tr>\n",
       "      <th>1</th>\n",
       "      <td>0.04</td>\n",
       "      <td>20.25</td>\n",
       "      <td>5.76</td>\n",
       "    </tr>\n",
       "  </tbody>\n",
       "</table>\n",
       "</div>"
      ],
      "text/plain": [
       "   mouse   duck  snake\n",
       "0   0.20   4.50   2.40\n",
       "1   0.04  20.25   5.76"
      ]
     },
     "execution_count": 164,
     "metadata": {},
     "output_type": "execute_result"
    }
   ],
   "source": [
    "df = pd.DataFrame([animal_series, animal_series_2])\n",
    "df"
   ]
  },
  {
   "cell_type": "code",
   "execution_count": 173,
   "id": "right-spirit",
   "metadata": {},
   "outputs": [],
   "source": [
    "animal_measurements = [['alpha', False, np.nan, 4],\n",
    "                       ['beta', False, 0.1, 2],\n",
    "                       ['beta', True, 0.333, 0], \n",
    "                      ['beta', True, -14, 30]]\n",
    "animal_df= pd.DataFrame(animal_measurements)"
   ]
  },
  {
   "cell_type": "code",
   "execution_count": 174,
   "id": "hairy-reducing",
   "metadata": {},
   "outputs": [
    {
     "data": {
      "text/html": [
       "<div>\n",
       "<style scoped>\n",
       "    .dataframe tbody tr th:only-of-type {\n",
       "        vertical-align: middle;\n",
       "    }\n",
       "\n",
       "    .dataframe tbody tr th {\n",
       "        vertical-align: top;\n",
       "    }\n",
       "\n",
       "    .dataframe thead th {\n",
       "        text-align: right;\n",
       "    }\n",
       "</style>\n",
       "<table border=\"1\" class=\"dataframe\">\n",
       "  <thead>\n",
       "    <tr style=\"text-align: right;\">\n",
       "      <th></th>\n",
       "      <th>0</th>\n",
       "      <th>1</th>\n",
       "      <th>2</th>\n",
       "      <th>3</th>\n",
       "    </tr>\n",
       "  </thead>\n",
       "  <tbody>\n",
       "    <tr>\n",
       "      <th>0</th>\n",
       "      <td>alpha</td>\n",
       "      <td>False</td>\n",
       "      <td>NaN</td>\n",
       "      <td>4</td>\n",
       "    </tr>\n",
       "    <tr>\n",
       "      <th>1</th>\n",
       "      <td>beta</td>\n",
       "      <td>False</td>\n",
       "      <td>0.100</td>\n",
       "      <td>2</td>\n",
       "    </tr>\n",
       "    <tr>\n",
       "      <th>2</th>\n",
       "      <td>beta</td>\n",
       "      <td>True</td>\n",
       "      <td>0.333</td>\n",
       "      <td>0</td>\n",
       "    </tr>\n",
       "    <tr>\n",
       "      <th>3</th>\n",
       "      <td>beta</td>\n",
       "      <td>True</td>\n",
       "      <td>-14.000</td>\n",
       "      <td>30</td>\n",
       "    </tr>\n",
       "  </tbody>\n",
       "</table>\n",
       "</div>"
      ],
      "text/plain": [
       "       0      1       2   3\n",
       "0  alpha  False     NaN   4\n",
       "1   beta  False   0.100   2\n",
       "2   beta   True   0.333   0\n",
       "3   beta   True -14.000  30"
      ]
     },
     "execution_count": 174,
     "metadata": {},
     "output_type": "execute_result"
    }
   ],
   "source": [
    "animal_df"
   ]
  },
  {
   "cell_type": "code",
   "execution_count": 176,
   "id": "minimal-belgium",
   "metadata": {},
   "outputs": [
    {
     "data": {
      "text/html": [
       "<div>\n",
       "<style scoped>\n",
       "    .dataframe tbody tr th:only-of-type {\n",
       "        vertical-align: middle;\n",
       "    }\n",
       "\n",
       "    .dataframe tbody tr th {\n",
       "        vertical-align: top;\n",
       "    }\n",
       "\n",
       "    .dataframe thead th {\n",
       "        text-align: right;\n",
       "    }\n",
       "</style>\n",
       "<table border=\"1\" class=\"dataframe\">\n",
       "  <thead>\n",
       "    <tr style=\"text-align: right;\">\n",
       "      <th></th>\n",
       "      <th>class</th>\n",
       "      <th>venomous</th>\n",
       "      <th>score</th>\n",
       "      <th>number_legs</th>\n",
       "    </tr>\n",
       "  </thead>\n",
       "  <tbody>\n",
       "    <tr>\n",
       "      <th>mouse</th>\n",
       "      <td>alpha</td>\n",
       "      <td>False</td>\n",
       "      <td>NaN</td>\n",
       "      <td>4</td>\n",
       "    </tr>\n",
       "    <tr>\n",
       "      <th>duck</th>\n",
       "      <td>beta</td>\n",
       "      <td>False</td>\n",
       "      <td>0.100</td>\n",
       "      <td>2</td>\n",
       "    </tr>\n",
       "    <tr>\n",
       "      <th>snake</th>\n",
       "      <td>beta</td>\n",
       "      <td>True</td>\n",
       "      <td>0.333</td>\n",
       "      <td>0</td>\n",
       "    </tr>\n",
       "    <tr>\n",
       "      <th>centipede</th>\n",
       "      <td>beta</td>\n",
       "      <td>True</td>\n",
       "      <td>-14.000</td>\n",
       "      <td>30</td>\n",
       "    </tr>\n",
       "  </tbody>\n",
       "</table>\n",
       "</div>"
      ],
      "text/plain": [
       "           class  venomous   score  number_legs\n",
       "mouse      alpha     False     NaN            4\n",
       "duck        beta     False   0.100            2\n",
       "snake       beta      True   0.333            0\n",
       "centipede   beta      True -14.000           30"
      ]
     },
     "execution_count": 176,
     "metadata": {},
     "output_type": "execute_result"
    }
   ],
   "source": [
    "animal_cols = ['class', 'venomous', 'score', 'number_legs']\n",
    "animal_index = ['mouse', 'duck', 'snake', 'centipede']\n",
    "animal_df.columns = animal_cols\n",
    "animal_df.index = animal_index\n",
    "animal_df"
   ]
  },
  {
   "cell_type": "code",
   "execution_count": 177,
   "id": "attended-rubber",
   "metadata": {},
   "outputs": [
    {
     "data": {
      "text/plain": [
       "class           object\n",
       "venomous          bool\n",
       "score          float64\n",
       "number_legs      int64\n",
       "dtype: object"
      ]
     },
     "execution_count": 177,
     "metadata": {},
     "output_type": "execute_result"
    }
   ],
   "source": [
    "animal_df.dtypes"
   ]
  },
  {
   "cell_type": "code",
   "execution_count": 180,
   "id": "described-piece",
   "metadata": {},
   "outputs": [],
   "source": [
    "animalDF = pd.DataFrame({'class': ['alpha', 'beta', 'beta', 'beta'],\n",
    "        'venomous': ['False', 'False', 'True', 'True'],\n",
    "        'score': ['nan', '0.1', '0.333', '-14'],\n",
    "        'number_of_legs': ['4', '2', '0', '30']},\n",
    "index=['mouse', 'duck', 'snake', 'centipede'])\n"
   ]
  },
  {
   "cell_type": "code",
   "execution_count": 181,
   "id": "fifth-accessory",
   "metadata": {},
   "outputs": [
    {
     "data": {
      "text/html": [
       "<div>\n",
       "<style scoped>\n",
       "    .dataframe tbody tr th:only-of-type {\n",
       "        vertical-align: middle;\n",
       "    }\n",
       "\n",
       "    .dataframe tbody tr th {\n",
       "        vertical-align: top;\n",
       "    }\n",
       "\n",
       "    .dataframe thead th {\n",
       "        text-align: right;\n",
       "    }\n",
       "</style>\n",
       "<table border=\"1\" class=\"dataframe\">\n",
       "  <thead>\n",
       "    <tr style=\"text-align: right;\">\n",
       "      <th></th>\n",
       "      <th>class</th>\n",
       "      <th>venomous</th>\n",
       "      <th>score</th>\n",
       "      <th>number_of_legs</th>\n",
       "    </tr>\n",
       "  </thead>\n",
       "  <tbody>\n",
       "    <tr>\n",
       "      <th>mouse</th>\n",
       "      <td>alpha</td>\n",
       "      <td>False</td>\n",
       "      <td>nan</td>\n",
       "      <td>4</td>\n",
       "    </tr>\n",
       "    <tr>\n",
       "      <th>duck</th>\n",
       "      <td>beta</td>\n",
       "      <td>False</td>\n",
       "      <td>0.1</td>\n",
       "      <td>2</td>\n",
       "    </tr>\n",
       "    <tr>\n",
       "      <th>snake</th>\n",
       "      <td>beta</td>\n",
       "      <td>True</td>\n",
       "      <td>0.333</td>\n",
       "      <td>0</td>\n",
       "    </tr>\n",
       "    <tr>\n",
       "      <th>centipede</th>\n",
       "      <td>beta</td>\n",
       "      <td>True</td>\n",
       "      <td>-14</td>\n",
       "      <td>30</td>\n",
       "    </tr>\n",
       "  </tbody>\n",
       "</table>\n",
       "</div>"
      ],
      "text/plain": [
       "           class venomous  score number_of_legs\n",
       "mouse      alpha    False    nan              4\n",
       "duck        beta    False    0.1              2\n",
       "snake       beta     True  0.333              0\n",
       "centipede   beta     True    -14             30"
      ]
     },
     "execution_count": 181,
     "metadata": {},
     "output_type": "execute_result"
    }
   ],
   "source": [
    "animalDF"
   ]
  },
  {
   "cell_type": "code",
   "execution_count": 182,
   "id": "smooth-bulgarian",
   "metadata": {},
   "outputs": [
    {
     "data": {
      "text/plain": [
       "mouse          nan\n",
       "duck           0.1\n",
       "snake        0.333\n",
       "centipede      -14\n",
       "Name: score, dtype: object"
      ]
     },
     "execution_count": 182,
     "metadata": {},
     "output_type": "execute_result"
    }
   ],
   "source": [
    "animalDF.loc[:,'score']"
   ]
  },
  {
   "cell_type": "code",
   "execution_count": 183,
   "id": "touched-refund",
   "metadata": {},
   "outputs": [
    {
     "data": {
      "text/html": [
       "<div>\n",
       "<style scoped>\n",
       "    .dataframe tbody tr th:only-of-type {\n",
       "        vertical-align: middle;\n",
       "    }\n",
       "\n",
       "    .dataframe tbody tr th {\n",
       "        vertical-align: top;\n",
       "    }\n",
       "\n",
       "    .dataframe thead th {\n",
       "        text-align: right;\n",
       "    }\n",
       "</style>\n",
       "<table border=\"1\" class=\"dataframe\">\n",
       "  <thead>\n",
       "    <tr style=\"text-align: right;\">\n",
       "      <th></th>\n",
       "      <th>score</th>\n",
       "      <th>venomous</th>\n",
       "    </tr>\n",
       "  </thead>\n",
       "  <tbody>\n",
       "    <tr>\n",
       "      <th>mouse</th>\n",
       "      <td>nan</td>\n",
       "      <td>False</td>\n",
       "    </tr>\n",
       "    <tr>\n",
       "      <th>duck</th>\n",
       "      <td>0.1</td>\n",
       "      <td>False</td>\n",
       "    </tr>\n",
       "  </tbody>\n",
       "</table>\n",
       "</div>"
      ],
      "text/plain": [
       "      score venomous\n",
       "mouse   nan    False\n",
       "duck    0.1    False"
      ]
     },
     "execution_count": 183,
     "metadata": {},
     "output_type": "execute_result"
    }
   ],
   "source": [
    "animalDF.loc[['mouse', 'duck'],['score', 'venomous']]"
   ]
  },
  {
   "cell_type": "code",
   "execution_count": 184,
   "id": "motivated-omega",
   "metadata": {},
   "outputs": [
    {
     "data": {
      "text/html": [
       "<div>\n",
       "<style scoped>\n",
       "    .dataframe tbody tr th:only-of-type {\n",
       "        vertical-align: middle;\n",
       "    }\n",
       "\n",
       "    .dataframe tbody tr th {\n",
       "        vertical-align: top;\n",
       "    }\n",
       "\n",
       "    .dataframe thead th {\n",
       "        text-align: right;\n",
       "    }\n",
       "</style>\n",
       "<table border=\"1\" class=\"dataframe\">\n",
       "  <thead>\n",
       "    <tr style=\"text-align: right;\">\n",
       "      <th></th>\n",
       "      <th>score</th>\n",
       "      <th>number_of_legs</th>\n",
       "    </tr>\n",
       "  </thead>\n",
       "  <tbody>\n",
       "    <tr>\n",
       "      <th>mouse</th>\n",
       "      <td>nan</td>\n",
       "      <td>4</td>\n",
       "    </tr>\n",
       "    <tr>\n",
       "      <th>duck</th>\n",
       "      <td>0.1</td>\n",
       "      <td>2</td>\n",
       "    </tr>\n",
       "  </tbody>\n",
       "</table>\n",
       "</div>"
      ],
      "text/plain": [
       "      score number_of_legs\n",
       "mouse   nan              4\n",
       "duck    0.1              2"
      ]
     },
     "execution_count": 184,
     "metadata": {},
     "output_type": "execute_result"
    }
   ],
   "source": [
    "animalDF.iloc[0:2,2:4]"
   ]
  },
  {
   "cell_type": "code",
   "execution_count": 270,
   "id": "talented-ballot",
   "metadata": {},
   "outputs": [
    {
     "data": {
      "text/html": [
       "<div>\n",
       "<style scoped>\n",
       "    .dataframe tbody tr th:only-of-type {\n",
       "        vertical-align: middle;\n",
       "    }\n",
       "\n",
       "    .dataframe tbody tr th {\n",
       "        vertical-align: top;\n",
       "    }\n",
       "\n",
       "    .dataframe thead th {\n",
       "        text-align: right;\n",
       "    }\n",
       "</style>\n",
       "<table border=\"1\" class=\"dataframe\">\n",
       "  <thead>\n",
       "    <tr style=\"text-align: right;\">\n",
       "      <th></th>\n",
       "      <th>Unnamed: 0</th>\n",
       "      <th>S97-100</th>\n",
       "      <th>S97-10339</th>\n",
       "      <th>S97-105</th>\n",
       "      <th>S97-11531</th>\n",
       "      <th>S97-12192</th>\n",
       "      <th>S97-12279</th>\n",
       "      <th>S97-13107</th>\n",
       "      <th>S97-13490</th>\n",
       "      <th>S97-13505</th>\n",
       "      <th>...</th>\n",
       "      <th>S97-7733</th>\n",
       "      <th>S97-7734</th>\n",
       "      <th>S97-7758</th>\n",
       "      <th>S97-7767</th>\n",
       "      <th>S97-7777</th>\n",
       "      <th>S97-7800</th>\n",
       "      <th>S97-7802</th>\n",
       "      <th>S97-7838</th>\n",
       "      <th>S97-8377</th>\n",
       "      <th>S97-8603</th>\n",
       "    </tr>\n",
       "  </thead>\n",
       "  <tbody>\n",
       "    <tr>\n",
       "      <th>0</th>\n",
       "      <td>Oral</td>\n",
       "      <td>107</td>\n",
       "      <td>0</td>\n",
       "      <td>29</td>\n",
       "      <td>0</td>\n",
       "      <td>0</td>\n",
       "      <td>86</td>\n",
       "      <td>325</td>\n",
       "      <td>0</td>\n",
       "      <td>0</td>\n",
       "      <td>...</td>\n",
       "      <td>0</td>\n",
       "      <td>0</td>\n",
       "      <td>0</td>\n",
       "      <td>0</td>\n",
       "      <td>0</td>\n",
       "      <td>0</td>\n",
       "      <td>0</td>\n",
       "      <td>0</td>\n",
       "      <td>5</td>\n",
       "      <td>0</td>\n",
       "    </tr>\n",
       "    <tr>\n",
       "      <th>1</th>\n",
       "      <td>Oral</td>\n",
       "      <td>78</td>\n",
       "      <td>0</td>\n",
       "      <td>5</td>\n",
       "      <td>0</td>\n",
       "      <td>0</td>\n",
       "      <td>36</td>\n",
       "      <td>11</td>\n",
       "      <td>0</td>\n",
       "      <td>0</td>\n",
       "      <td>...</td>\n",
       "      <td>0</td>\n",
       "      <td>0</td>\n",
       "      <td>0</td>\n",
       "      <td>0</td>\n",
       "      <td>0</td>\n",
       "      <td>0</td>\n",
       "      <td>0</td>\n",
       "      <td>0</td>\n",
       "      <td>0</td>\n",
       "      <td>0</td>\n",
       "    </tr>\n",
       "    <tr>\n",
       "      <th>2</th>\n",
       "      <td>Oral</td>\n",
       "      <td>150</td>\n",
       "      <td>0</td>\n",
       "      <td>3</td>\n",
       "      <td>0</td>\n",
       "      <td>0</td>\n",
       "      <td>5</td>\n",
       "      <td>3</td>\n",
       "      <td>0</td>\n",
       "      <td>0</td>\n",
       "      <td>...</td>\n",
       "      <td>0</td>\n",
       "      <td>0</td>\n",
       "      <td>0</td>\n",
       "      <td>0</td>\n",
       "      <td>0</td>\n",
       "      <td>0</td>\n",
       "      <td>0</td>\n",
       "      <td>0</td>\n",
       "      <td>0</td>\n",
       "      <td>0</td>\n",
       "    </tr>\n",
       "    <tr>\n",
       "      <th>3</th>\n",
       "      <td>Oral</td>\n",
       "      <td>166</td>\n",
       "      <td>0</td>\n",
       "      <td>9</td>\n",
       "      <td>0</td>\n",
       "      <td>0</td>\n",
       "      <td>7</td>\n",
       "      <td>46</td>\n",
       "      <td>1</td>\n",
       "      <td>0</td>\n",
       "      <td>...</td>\n",
       "      <td>0</td>\n",
       "      <td>0</td>\n",
       "      <td>0</td>\n",
       "      <td>0</td>\n",
       "      <td>0</td>\n",
       "      <td>0</td>\n",
       "      <td>1</td>\n",
       "      <td>0</td>\n",
       "      <td>0</td>\n",
       "      <td>0</td>\n",
       "    </tr>\n",
       "    <tr>\n",
       "      <th>4</th>\n",
       "      <td>Oral</td>\n",
       "      <td>0</td>\n",
       "      <td>0</td>\n",
       "      <td>0</td>\n",
       "      <td>0</td>\n",
       "      <td>0</td>\n",
       "      <td>1</td>\n",
       "      <td>0</td>\n",
       "      <td>0</td>\n",
       "      <td>0</td>\n",
       "      <td>...</td>\n",
       "      <td>0</td>\n",
       "      <td>0</td>\n",
       "      <td>0</td>\n",
       "      <td>0</td>\n",
       "      <td>0</td>\n",
       "      <td>0</td>\n",
       "      <td>0</td>\n",
       "      <td>0</td>\n",
       "      <td>0</td>\n",
       "      <td>0</td>\n",
       "    </tr>\n",
       "  </tbody>\n",
       "</table>\n",
       "<p>5 rows × 124 columns</p>\n",
       "</div>"
      ],
      "text/plain": [
       "  Unnamed: 0  S97-100  S97-10339  S97-105  S97-11531  S97-12192  S97-12279  \\\n",
       "0       Oral      107          0       29          0          0         86   \n",
       "1       Oral       78          0        5          0          0         36   \n",
       "2       Oral      150          0        3          0          0          5   \n",
       "3       Oral      166          0        9          0          0          7   \n",
       "4       Oral        0          0        0          0          0          1   \n",
       "\n",
       "   S97-13107  S97-13490  S97-13505  ...  S97-7733  S97-7734  S97-7758  \\\n",
       "0        325          0          0  ...         0         0         0   \n",
       "1         11          0          0  ...         0         0         0   \n",
       "2          3          0          0  ...         0         0         0   \n",
       "3         46          1          0  ...         0         0         0   \n",
       "4          0          0          0  ...         0         0         0   \n",
       "\n",
       "   S97-7767  S97-7777  S97-7800  S97-7802  S97-7838  S97-8377  S97-8603  \n",
       "0         0         0         0         0         0         5         0  \n",
       "1         0         0         0         0         0         0         0  \n",
       "2         0         0         0         0         0         0         0  \n",
       "3         0         0         0         1         0         0         0  \n",
       "4         0         0         0         0         0         0         0  \n",
       "\n",
       "[5 rows x 124 columns]"
      ]
     },
     "execution_count": 270,
     "metadata": {},
     "output_type": "execute_result"
    }
   ],
   "source": [
    "samp = pd.read_excel('files/exercise_3/filtered_samples.xlsx', index_col = 0)\n",
    "samp.head(5)"
   ]
  },
  {
   "cell_type": "code",
   "execution_count": 214,
   "id": "monetary-duration",
   "metadata": {},
   "outputs": [
    {
     "name": "stdout",
     "output_type": "stream",
     "text": [
      "(150, 124)\n",
      "S97-100       34.566667\n",
      "S97-10339     39.486667\n",
      "S97-105       46.853333\n",
      "S97-11531     91.480000\n",
      "S97-12192      9.953333\n",
      "                ...    \n",
      "S97-7800      21.653333\n",
      "S97-7802      15.286667\n",
      "S97-7838     129.360000\n",
      "S97-8377      18.900000\n",
      "S97-8603      42.753333\n",
      "Length: 123, dtype: float64\n",
      "0      111.666667\n",
      "1      122.195122\n",
      "2      135.585366\n",
      "3      137.065041\n",
      "4      139.382114\n",
      "          ...    \n",
      "145     31.268293\n",
      "146     42.341463\n",
      "147     65.707317\n",
      "148     33.886179\n",
      "149     24.325203\n",
      "Length: 150, dtype: float64\n"
     ]
    },
    {
     "data": {
      "text/html": [
       "<div>\n",
       "<style scoped>\n",
       "    .dataframe tbody tr th:only-of-type {\n",
       "        vertical-align: middle;\n",
       "    }\n",
       "\n",
       "    .dataframe tbody tr th {\n",
       "        vertical-align: top;\n",
       "    }\n",
       "\n",
       "    .dataframe thead th {\n",
       "        text-align: right;\n",
       "    }\n",
       "</style>\n",
       "<table border=\"1\" class=\"dataframe\">\n",
       "  <thead>\n",
       "    <tr style=\"text-align: right;\">\n",
       "      <th></th>\n",
       "      <th>Unnamed: 0</th>\n",
       "    </tr>\n",
       "  </thead>\n",
       "  <tbody>\n",
       "    <tr>\n",
       "      <th>0</th>\n",
       "      <td>Oral</td>\n",
       "    </tr>\n",
       "    <tr>\n",
       "      <th>1</th>\n",
       "      <td>Oral</td>\n",
       "    </tr>\n",
       "    <tr>\n",
       "      <th>2</th>\n",
       "      <td>Oral</td>\n",
       "    </tr>\n",
       "    <tr>\n",
       "      <th>3</th>\n",
       "      <td>Oral</td>\n",
       "    </tr>\n",
       "    <tr>\n",
       "      <th>4</th>\n",
       "      <td>Oral</td>\n",
       "    </tr>\n",
       "    <tr>\n",
       "      <th>...</th>\n",
       "      <td>...</td>\n",
       "    </tr>\n",
       "    <tr>\n",
       "      <th>145</th>\n",
       "      <td>Skin</td>\n",
       "    </tr>\n",
       "    <tr>\n",
       "      <th>146</th>\n",
       "      <td>Skin</td>\n",
       "    </tr>\n",
       "    <tr>\n",
       "      <th>147</th>\n",
       "      <td>Skin</td>\n",
       "    </tr>\n",
       "    <tr>\n",
       "      <th>148</th>\n",
       "      <td>Skin</td>\n",
       "    </tr>\n",
       "    <tr>\n",
       "      <th>149</th>\n",
       "      <td>Skin</td>\n",
       "    </tr>\n",
       "  </tbody>\n",
       "</table>\n",
       "<p>150 rows × 1 columns</p>\n",
       "</div>"
      ],
      "text/plain": [
       "    Unnamed: 0\n",
       "0         Oral\n",
       "1         Oral\n",
       "2         Oral\n",
       "3         Oral\n",
       "4         Oral\n",
       "..         ...\n",
       "145       Skin\n",
       "146       Skin\n",
       "147       Skin\n",
       "148       Skin\n",
       "149       Skin\n",
       "\n",
       "[150 rows x 1 columns]"
      ]
     },
     "execution_count": 214,
     "metadata": {},
     "output_type": "execute_result"
    }
   ],
   "source": [
    "print(samp.shape)\n",
    "print(samp.mean(axis=0))\n",
    "print(samp.mean(axis=1))\n"
   ]
  },
  {
   "cell_type": "code",
   "execution_count": 216,
   "id": "accredited-destination",
   "metadata": {},
   "outputs": [
    {
     "data": {
      "text/html": [
       "<div>\n",
       "<style scoped>\n",
       "    .dataframe tbody tr th:only-of-type {\n",
       "        vertical-align: middle;\n",
       "    }\n",
       "\n",
       "    .dataframe tbody tr th {\n",
       "        vertical-align: top;\n",
       "    }\n",
       "\n",
       "    .dataframe thead th {\n",
       "        text-align: right;\n",
       "    }\n",
       "</style>\n",
       "<table border=\"1\" class=\"dataframe\">\n",
       "  <thead>\n",
       "    <tr style=\"text-align: right;\">\n",
       "      <th></th>\n",
       "      <th>S97-100</th>\n",
       "      <th>S97-13505</th>\n",
       "      <th>S97-8603</th>\n",
       "      <th>bodysite</th>\n",
       "    </tr>\n",
       "  </thead>\n",
       "  <tbody>\n",
       "    <tr>\n",
       "      <th>0</th>\n",
       "      <td>107</td>\n",
       "      <td>0</td>\n",
       "      <td>0</td>\n",
       "      <td>Oral</td>\n",
       "    </tr>\n",
       "    <tr>\n",
       "      <th>1</th>\n",
       "      <td>78</td>\n",
       "      <td>0</td>\n",
       "      <td>0</td>\n",
       "      <td>Oral</td>\n",
       "    </tr>\n",
       "    <tr>\n",
       "      <th>2</th>\n",
       "      <td>150</td>\n",
       "      <td>0</td>\n",
       "      <td>0</td>\n",
       "      <td>Oral</td>\n",
       "    </tr>\n",
       "    <tr>\n",
       "      <th>3</th>\n",
       "      <td>166</td>\n",
       "      <td>0</td>\n",
       "      <td>0</td>\n",
       "      <td>Oral</td>\n",
       "    </tr>\n",
       "    <tr>\n",
       "      <th>4</th>\n",
       "      <td>0</td>\n",
       "      <td>0</td>\n",
       "      <td>0</td>\n",
       "      <td>Oral</td>\n",
       "    </tr>\n",
       "    <tr>\n",
       "      <th>...</th>\n",
       "      <td>...</td>\n",
       "      <td>...</td>\n",
       "      <td>...</td>\n",
       "      <td>...</td>\n",
       "    </tr>\n",
       "    <tr>\n",
       "      <th>145</th>\n",
       "      <td>0</td>\n",
       "      <td>0</td>\n",
       "      <td>0</td>\n",
       "      <td>Skin</td>\n",
       "    </tr>\n",
       "    <tr>\n",
       "      <th>146</th>\n",
       "      <td>2</td>\n",
       "      <td>0</td>\n",
       "      <td>0</td>\n",
       "      <td>Skin</td>\n",
       "    </tr>\n",
       "    <tr>\n",
       "      <th>147</th>\n",
       "      <td>23</td>\n",
       "      <td>0</td>\n",
       "      <td>0</td>\n",
       "      <td>Skin</td>\n",
       "    </tr>\n",
       "    <tr>\n",
       "      <th>148</th>\n",
       "      <td>26</td>\n",
       "      <td>0</td>\n",
       "      <td>0</td>\n",
       "      <td>Skin</td>\n",
       "    </tr>\n",
       "    <tr>\n",
       "      <th>149</th>\n",
       "      <td>8</td>\n",
       "      <td>0</td>\n",
       "      <td>0</td>\n",
       "      <td>Skin</td>\n",
       "    </tr>\n",
       "  </tbody>\n",
       "</table>\n",
       "<p>150 rows × 4 columns</p>\n",
       "</div>"
      ],
      "text/plain": [
       "     S97-100  S97-13505  S97-8603 bodysite\n",
       "0        107          0         0     Oral\n",
       "1         78          0         0     Oral\n",
       "2        150          0         0     Oral\n",
       "3        166          0         0     Oral\n",
       "4          0          0         0     Oral\n",
       "..       ...        ...       ...      ...\n",
       "145        0          0         0     Skin\n",
       "146        2          0         0     Skin\n",
       "147       23          0         0     Skin\n",
       "148       26          0         0     Skin\n",
       "149        8          0         0     Skin\n",
       "\n",
       "[150 rows x 4 columns]"
      ]
     },
     "execution_count": 216,
     "metadata": {},
     "output_type": "execute_result"
    }
   ],
   "source": [
    "selection = samp.loc[:, ['S97-100', 'S97-13505', 'S97-8603']]\n",
    "body_sites = samp.iloc[:,0:1]\n",
    "selection = selection.assign(bodysite = body_sites)\n",
    "selection"
   ]
  },
  {
   "cell_type": "code",
   "execution_count": 219,
   "id": "combined-mexico",
   "metadata": {},
   "outputs": [
    {
     "data": {
      "text/html": [
       "<div>\n",
       "<style scoped>\n",
       "    .dataframe tbody tr th:only-of-type {\n",
       "        vertical-align: middle;\n",
       "    }\n",
       "\n",
       "    .dataframe tbody tr th {\n",
       "        vertical-align: top;\n",
       "    }\n",
       "\n",
       "    .dataframe thead th {\n",
       "        text-align: right;\n",
       "    }\n",
       "</style>\n",
       "<table border=\"1\" class=\"dataframe\">\n",
       "  <thead>\n",
       "    <tr style=\"text-align: right;\">\n",
       "      <th></th>\n",
       "      <th>S97-100</th>\n",
       "      <th>S97-13505</th>\n",
       "      <th>S97-8603</th>\n",
       "      <th>bodysite</th>\n",
       "    </tr>\n",
       "  </thead>\n",
       "  <tbody>\n",
       "    <tr>\n",
       "      <th>18</th>\n",
       "      <td>538</td>\n",
       "      <td>0</td>\n",
       "      <td>0</td>\n",
       "      <td>Oral</td>\n",
       "    </tr>\n",
       "    <tr>\n",
       "      <th>19</th>\n",
       "      <td>459</td>\n",
       "      <td>0</td>\n",
       "      <td>0</td>\n",
       "      <td>Oral</td>\n",
       "    </tr>\n",
       "    <tr>\n",
       "      <th>24</th>\n",
       "      <td>412</td>\n",
       "      <td>0</td>\n",
       "      <td>0</td>\n",
       "      <td>Oral</td>\n",
       "    </tr>\n",
       "    <tr>\n",
       "      <th>32</th>\n",
       "      <td>386</td>\n",
       "      <td>0</td>\n",
       "      <td>0</td>\n",
       "      <td>Oral</td>\n",
       "    </tr>\n",
       "    <tr>\n",
       "      <th>6</th>\n",
       "      <td>369</td>\n",
       "      <td>0</td>\n",
       "      <td>0</td>\n",
       "      <td>Oral</td>\n",
       "    </tr>\n",
       "    <tr>\n",
       "      <th>...</th>\n",
       "      <td>...</td>\n",
       "      <td>...</td>\n",
       "      <td>...</td>\n",
       "      <td>...</td>\n",
       "    </tr>\n",
       "    <tr>\n",
       "      <th>80</th>\n",
       "      <td>0</td>\n",
       "      <td>0</td>\n",
       "      <td>75</td>\n",
       "      <td>Feces</td>\n",
       "    </tr>\n",
       "    <tr>\n",
       "      <th>79</th>\n",
       "      <td>0</td>\n",
       "      <td>567</td>\n",
       "      <td>159</td>\n",
       "      <td>Feces</td>\n",
       "    </tr>\n",
       "    <tr>\n",
       "      <th>78</th>\n",
       "      <td>0</td>\n",
       "      <td>0</td>\n",
       "      <td>726</td>\n",
       "      <td>Feces</td>\n",
       "    </tr>\n",
       "    <tr>\n",
       "      <th>77</th>\n",
       "      <td>0</td>\n",
       "      <td>0</td>\n",
       "      <td>36</td>\n",
       "      <td>Feces</td>\n",
       "    </tr>\n",
       "    <tr>\n",
       "      <th>75</th>\n",
       "      <td>0</td>\n",
       "      <td>0</td>\n",
       "      <td>0</td>\n",
       "      <td>Feces</td>\n",
       "    </tr>\n",
       "  </tbody>\n",
       "</table>\n",
       "<p>150 rows × 4 columns</p>\n",
       "</div>"
      ],
      "text/plain": [
       "    S97-100  S97-13505  S97-8603 bodysite\n",
       "18      538          0         0     Oral\n",
       "19      459          0         0     Oral\n",
       "24      412          0         0     Oral\n",
       "32      386          0         0     Oral\n",
       "6       369          0         0     Oral\n",
       "..      ...        ...       ...      ...\n",
       "80        0          0        75    Feces\n",
       "79        0        567       159    Feces\n",
       "78        0          0       726    Feces\n",
       "77        0          0        36    Feces\n",
       "75        0          0         0    Feces\n",
       "\n",
       "[150 rows x 4 columns]"
      ]
     },
     "execution_count": 219,
     "metadata": {},
     "output_type": "execute_result"
    }
   ],
   "source": [
    "# Sorting\n",
    "selection.sort_values(by='S97-100', ascending=False)"
   ]
  },
  {
   "cell_type": "code",
   "execution_count": 233,
   "id": "occasional-jacksonville",
   "metadata": {},
   "outputs": [],
   "source": [
    "# Boolean indexing\n",
    "indices_to_choose = selection.loc[:,'bodysite'] == 'Skin'"
   ]
  },
  {
   "cell_type": "code",
   "execution_count": 234,
   "id": "internal-enlargement",
   "metadata": {},
   "outputs": [
    {
     "data": {
      "text/html": [
       "<div>\n",
       "<style scoped>\n",
       "    .dataframe tbody tr th:only-of-type {\n",
       "        vertical-align: middle;\n",
       "    }\n",
       "\n",
       "    .dataframe tbody tr th {\n",
       "        vertical-align: top;\n",
       "    }\n",
       "\n",
       "    .dataframe thead th {\n",
       "        text-align: right;\n",
       "    }\n",
       "</style>\n",
       "<table border=\"1\" class=\"dataframe\">\n",
       "  <thead>\n",
       "    <tr style=\"text-align: right;\">\n",
       "      <th></th>\n",
       "      <th>S97-100</th>\n",
       "      <th>S97-13505</th>\n",
       "      <th>S97-8603</th>\n",
       "      <th>bodysite</th>\n",
       "    </tr>\n",
       "  </thead>\n",
       "  <tbody>\n",
       "    <tr>\n",
       "      <th>100</th>\n",
       "      <td>0</td>\n",
       "      <td>0</td>\n",
       "      <td>0</td>\n",
       "      <td>Skin</td>\n",
       "    </tr>\n",
       "    <tr>\n",
       "      <th>101</th>\n",
       "      <td>0</td>\n",
       "      <td>0</td>\n",
       "      <td>0</td>\n",
       "      <td>Skin</td>\n",
       "    </tr>\n",
       "    <tr>\n",
       "      <th>102</th>\n",
       "      <td>0</td>\n",
       "      <td>0</td>\n",
       "      <td>0</td>\n",
       "      <td>Skin</td>\n",
       "    </tr>\n",
       "    <tr>\n",
       "      <th>103</th>\n",
       "      <td>0</td>\n",
       "      <td>0</td>\n",
       "      <td>0</td>\n",
       "      <td>Skin</td>\n",
       "    </tr>\n",
       "    <tr>\n",
       "      <th>104</th>\n",
       "      <td>0</td>\n",
       "      <td>0</td>\n",
       "      <td>0</td>\n",
       "      <td>Skin</td>\n",
       "    </tr>\n",
       "  </tbody>\n",
       "</table>\n",
       "</div>"
      ],
      "text/plain": [
       "     S97-100  S97-13505  S97-8603 bodysite\n",
       "100        0          0         0     Skin\n",
       "101        0          0         0     Skin\n",
       "102        0          0         0     Skin\n",
       "103        0          0         0     Skin\n",
       "104        0          0         0     Skin"
      ]
     },
     "execution_count": 234,
     "metadata": {},
     "output_type": "execute_result"
    }
   ],
   "source": [
    "# Get all of the files where body site is \"Skin\" using boolean list from above\n",
    "x = selection.loc[indices_to_choose, :]\n",
    "x.head(5)"
   ]
  },
  {
   "cell_type": "code",
   "execution_count": 235,
   "id": "simple-plenty",
   "metadata": {},
   "outputs": [
    {
     "data": {
      "text/html": [
       "<div>\n",
       "<style scoped>\n",
       "    .dataframe tbody tr th:only-of-type {\n",
       "        vertical-align: middle;\n",
       "    }\n",
       "\n",
       "    .dataframe tbody tr th {\n",
       "        vertical-align: top;\n",
       "    }\n",
       "\n",
       "    .dataframe thead th {\n",
       "        text-align: right;\n",
       "    }\n",
       "</style>\n",
       "<table border=\"1\" class=\"dataframe\">\n",
       "  <thead>\n",
       "    <tr style=\"text-align: right;\">\n",
       "      <th></th>\n",
       "      <th>S97-100</th>\n",
       "      <th>S97-13505</th>\n",
       "      <th>S97-8603</th>\n",
       "      <th>bodysite</th>\n",
       "    </tr>\n",
       "  </thead>\n",
       "  <tbody>\n",
       "    <tr>\n",
       "      <th>118</th>\n",
       "      <td>28</td>\n",
       "      <td>0</td>\n",
       "      <td>20</td>\n",
       "      <td>Skin</td>\n",
       "    </tr>\n",
       "    <tr>\n",
       "      <th>132</th>\n",
       "      <td>0</td>\n",
       "      <td>0</td>\n",
       "      <td>10</td>\n",
       "      <td>Skin</td>\n",
       "    </tr>\n",
       "    <tr>\n",
       "      <th>133</th>\n",
       "      <td>0</td>\n",
       "      <td>0</td>\n",
       "      <td>5</td>\n",
       "      <td>Skin</td>\n",
       "    </tr>\n",
       "    <tr>\n",
       "      <th>137</th>\n",
       "      <td>0</td>\n",
       "      <td>0</td>\n",
       "      <td>5</td>\n",
       "      <td>Skin</td>\n",
       "    </tr>\n",
       "  </tbody>\n",
       "</table>\n",
       "</div>"
      ],
      "text/plain": [
       "     S97-100  S97-13505  S97-8603 bodysite\n",
       "118       28          0        20     Skin\n",
       "132        0          0        10     Skin\n",
       "133        0          0         5     Skin\n",
       "137        0          0         5     Skin"
      ]
     },
     "execution_count": 235,
     "metadata": {},
     "output_type": "execute_result"
    }
   ],
   "source": [
    "# Select rows from the dataframe where body site has 1 or more counts\n",
    "selection.loc[(selection.loc[:,'bodysite'] == 'Skin') &\n",
    "  (selection.loc[:,'S97-8603'] >= 1), :]\n"
   ]
  },
  {
   "cell_type": "code",
   "execution_count": 263,
   "id": "electrical-cookie",
   "metadata": {},
   "outputs": [
    {
     "data": {
      "text/html": [
       "<div>\n",
       "<style scoped>\n",
       "    .dataframe tbody tr th:only-of-type {\n",
       "        vertical-align: middle;\n",
       "    }\n",
       "\n",
       "    .dataframe tbody tr th {\n",
       "        vertical-align: top;\n",
       "    }\n",
       "\n",
       "    .dataframe thead th {\n",
       "        text-align: right;\n",
       "    }\n",
       "</style>\n",
       "<table border=\"1\" class=\"dataframe\">\n",
       "  <thead>\n",
       "    <tr style=\"text-align: right;\">\n",
       "      <th></th>\n",
       "      <th>S97-100</th>\n",
       "      <th>S97-13505</th>\n",
       "      <th>S97-8603</th>\n",
       "      <th>bodysite</th>\n",
       "    </tr>\n",
       "  </thead>\n",
       "  <tbody>\n",
       "    <tr>\n",
       "      <th>50</th>\n",
       "      <td>0</td>\n",
       "      <td>0</td>\n",
       "      <td>9</td>\n",
       "      <td>Feces</td>\n",
       "    </tr>\n",
       "    <tr>\n",
       "      <th>52</th>\n",
       "      <td>0</td>\n",
       "      <td>0</td>\n",
       "      <td>40</td>\n",
       "      <td>Feces</td>\n",
       "    </tr>\n",
       "    <tr>\n",
       "      <th>53</th>\n",
       "      <td>0</td>\n",
       "      <td>0</td>\n",
       "      <td>57</td>\n",
       "      <td>Feces</td>\n",
       "    </tr>\n",
       "    <tr>\n",
       "      <th>54</th>\n",
       "      <td>0</td>\n",
       "      <td>0</td>\n",
       "      <td>164</td>\n",
       "      <td>Feces</td>\n",
       "    </tr>\n",
       "    <tr>\n",
       "      <th>55</th>\n",
       "      <td>0</td>\n",
       "      <td>0</td>\n",
       "      <td>172</td>\n",
       "      <td>Feces</td>\n",
       "    </tr>\n",
       "    <tr>\n",
       "      <th>56</th>\n",
       "      <td>0</td>\n",
       "      <td>0</td>\n",
       "      <td>140</td>\n",
       "      <td>Feces</td>\n",
       "    </tr>\n",
       "    <tr>\n",
       "      <th>58</th>\n",
       "      <td>0</td>\n",
       "      <td>0</td>\n",
       "      <td>76</td>\n",
       "      <td>Feces</td>\n",
       "    </tr>\n",
       "    <tr>\n",
       "      <th>59</th>\n",
       "      <td>0</td>\n",
       "      <td>815</td>\n",
       "      <td>440</td>\n",
       "      <td>Feces</td>\n",
       "    </tr>\n",
       "    <tr>\n",
       "      <th>60</th>\n",
       "      <td>0</td>\n",
       "      <td>0</td>\n",
       "      <td>238</td>\n",
       "      <td>Feces</td>\n",
       "    </tr>\n",
       "    <tr>\n",
       "      <th>62</th>\n",
       "      <td>0</td>\n",
       "      <td>0</td>\n",
       "      <td>53</td>\n",
       "      <td>Feces</td>\n",
       "    </tr>\n",
       "  </tbody>\n",
       "</table>\n",
       "</div>"
      ],
      "text/plain": [
       "    S97-100  S97-13505  S97-8603 bodysite\n",
       "50        0          0         9    Feces\n",
       "52        0          0        40    Feces\n",
       "53        0          0        57    Feces\n",
       "54        0          0       164    Feces\n",
       "55        0          0       172    Feces\n",
       "56        0          0       140    Feces\n",
       "58        0          0        76    Feces\n",
       "59        0        815       440    Feces\n",
       "60        0          0       238    Feces\n",
       "62        0          0        53    Feces"
      ]
     },
     "execution_count": 263,
     "metadata": {},
     "output_type": "execute_result"
    }
   ],
   "source": [
    "# Only select the rows where bodysite is 'Feces'\n",
    "indices_to_choose = selection.loc[:,'bodysite'] == 'Feces'\n",
    "\n",
    "# Subset only th columns where indices_to_choose evaluates to true\n",
    "feces_subset = selection.loc[indices_to_choose, :]\n",
    "\n",
    "# Within this Feces subset, take the sum of each row\n",
    "criteria = feces_subset.sum(axis=1)\n",
    "\n",
    "# Make a boolean vector where which returns true is the sum of the row >=1\n",
    "where_greater_than_1 = criteria >= 1\n",
    "\n",
    "# Use the boolean vector to only select rows which evaluate as true\n",
    "feces_subset = feces_subset.loc[where_greater_than_1, :]\n",
    "\n",
    "# Show that we have selected only rows with at least 1 site :)\n",
    "feces_subset.head(10)"
   ]
  },
  {
   "cell_type": "code",
   "execution_count": 266,
   "id": "dedicated-warrant",
   "metadata": {},
   "outputs": [],
   "source": [
    "# Save to tsv file (note 'csv' stands for comma seperated value)\n",
    "feces_subset.to_csv('results/feces_subset.tsv', sep='\\t', index=False) "
   ]
  },
  {
   "cell_type": "code",
   "execution_count": 268,
   "id": "insured-pressure",
   "metadata": {},
   "outputs": [
    {
     "data": {
      "text/plain": [
       "<AxesSubplot:>"
      ]
     },
     "execution_count": 268,
     "metadata": {},
     "output_type": "execute_result"
    },
    {
     "data": {
      "image/png": "[encoded data removed]",
      "text/plain": [
       "<Figure size 432x288 with 3 Axes>"
      ]
     },
     "metadata": {
      "needs_background": "light"
     },
     "output_type": "display_data"
    },
    {
     "data": {
      "image/png": "[encoded data removed]",
      "text/plain": [
       "<Figure size 432x288 with 1 Axes>"
      ]
     },
     "metadata": {
      "needs_background": "light"
     },
     "output_type": "display_data"
    }
   ],
   "source": [
    "%matplotlib inline\n",
    "selection.loc[selection.bodysite == 'Oral',:].plot.hist(subplots=True)\n",
    "selection.plot.box(logy=True)\n"
   ]
  }
 ],
 "metadata": {
  "kernelspec": {
   "display_name": "Python 3",
   "language": "python",
   "name": "python3"
  },
  "language_info": {
   "codemirror_mode": {
    "name": "ipython",
    "version": 3
   },
   "file_extension": ".py",
   "mimetype": "text/x-python",
   "name": "python",
   "nbconvert_exporter": "python",
   "pygments_lexer": "ipython3",
   "version": "3.8.6"
  }
 },
 "nbformat": 4,
 "nbformat_minor": 5
}
